{
 "cells": [
  {
   "cell_type": "markdown",
   "id": "38462487",
   "metadata": {},
   "source": [
    "# HyperNova by Hand"
   ]
  },
  {
   "cell_type": "markdown",
   "id": "22333e17",
   "metadata": {},
   "source": [
    "## Folding CCS relations in HyperNova"
   ]
  },
  {
   "cell_type": "markdown",
   "id": "dd246104",
   "metadata": {},
   "source": [
    "In part 1, we managed to verify the validity of a CCS relation using the sum-check. The goal was to get ourselves familiar with the mechanics of the protocol. In particular, we saw that two sum-checks are run for such a CCS relation, and how the two sum-checks relate.\n",
    "\n",
    "- **Outer sum-check**: $0 = G(x)$ for all $x \\in \\{0,1\\}^2$.\n",
    "- **(Batched) inner sum-checks**: $v_j = \\sum_{y\\in \\{0,1\\}^{3}} \\widetilde{M}_j(r,y) \\cdot \\widetilde{z}(y)$\n",
    "\n",
    "The goal of this post is to go beyond a single CCS instance to a folding of many as is done in the HyperNova paper. One of the main insights of folding in HyperNova is that we can accumulate or delay the computation of the inner sum-checks."
   ]
  },
  {
   "cell_type": "markdown",
   "id": "053776e4",
   "metadata": {},
   "source": [
    "## Linearised Committed CCS (LCCCS)\n",
    "\n",
    "Recall that a *relation* $\\mathcal{R}$ in CCS is composed by:\n",
    "- a *structure* $s := ([M_1, ..., M_t], [S_1,...,S_q], [c_1, ..., c_q])$, plus some other bound parameters such as the number of rows $m$ and columns $n$ of the matrices $M_i$. \n",
    "- an *instance*, which consists of public inputs $\\times \\in \\mathbb{F}^l$ and private inputs $\\omega \\in \\mathbb{F}^m$.\n",
    "\n",
    "that satisfies that $(s, \\times, \\omega) \\in \\mathcal{R}_{CCS}$ if and only if for all $x \\in \\{0,1\\}^{\\log m}$\n",
    "\n",
    "$\\begin{align}\n",
    "& \\sum_{i=1}^q c_i \\cdot (\\prod_{j\\in S_i} (\\sum_{y\\in \\{0,1\\}^{\\log m}} \\widetilde{M}_j(x,y) \\cdot \\widetilde{z}(y))) = 0\n",
    "\\end{align}$\n",
    "\n",
    "where $\\widetilde{z}(y)=\\widetilde{(\\omega, \\times, 1)}(y)$"
   ]
  },
  {
   "cell_type": "markdown",
   "id": "053245d7",
   "metadata": {},
   "source": [
    "In HyperNova, CCS relations are modified for folding:\n",
    "\n",
    "- A *Linearised CCS* relation $\\mathcal{R}_{LCCS}$ contains only inner linear sum-checks. Concretely,\n",
    "\n",
    "$\\begin{align}\n",
    "(s, (u, x, r, \\{v_1,...,v_t\\}), \\widetilde{w}) \\in \\mathcal{R}_{LCCS} \n",
    "\\iff v_i = \\sum_{y \\in \\{ 0,1\\}} \\widetilde{M_i}(r, y) \\cdot \\widetilde{z}(y)\n",
    "\\end{align}$.\n",
    "\n",
    "One can think of a Linearised CCS instance as an object that encapsulates the inner sum-checks that are left after computing the outer sum-check of a CCS instance. \n",
    "\n",
    "- A *Committed CCS* relation $(C, s, \\times, \\omega) \\in \\mathcal{R}_{CCCS}$ is a CCS instance where a commitment to the witness $\\omega$ is also presented in the instance.\n",
    "- A *Linearised Committed CCS* instance $(C, s, (u, x, r, \\{v_1,...,v_t\\}), \\widetilde{w}) \\in \\mathcal{R}_{LCCCS}$ is a linearised instance with a commitment to the witness $\\omega$ of the instance."
   ]
  },
  {
   "cell_type": "markdown",
   "id": "5f12602b",
   "metadata": {},
   "source": [
    "## Multi-folding for CCS construction\n",
    "\n",
    "Folding in HyperNova takes an *accumulated* relation $R_1 \\in \\mathcal{R}_{LCCCS}$ and a new, incoming relation $R_2 \\in \\mathcal{R}_{CCCS}$, and returns a new accumulated relation $R_3 \\in \\mathcal{R}_{LCCCS}$.\n",
    "\n",
    "$\\begin{aligned}\n",
    "f : \\mathcal{R}_{LCCCS} \\times \\mathcal{R}_{CCCS} &\\to \\mathcal{R}_{LCCCS} \\\\\n",
    "(R_1, R_2) &\\mapsto R_3 \n",
    "\\end{aligned}$\n",
    "\n",
    "More precisely, a folding step will require us to prove the sums in:\n",
    "- $R_1 \\in \\mathcal{R}_{LCCCS}$: $v_i = \\sum_{y \\in \\{ 0,1\\}} \\widetilde{M_i}(r, y) \\cdot \\widetilde{z}(y)$\n",
    "- $R_2 \\in \\mathcal{R}_{CCCS}$: $\\sum_{i=1}^q c_i \\cdot (\\prod_{j\\in S_i} (\\sum_{y\\in \\{0,1\\}^{\\log m}} \\widetilde{M}_j(x,y) \\cdot \\widetilde{z}(y))) = 0$\n",
    "\n",
    "while delaying some of the sum-checks for later steps, which are encoded in $R_3 \\in \\mathcal{R}_{LCCCS}$."
   ]
  },
  {
   "cell_type": "markdown",
   "id": "033b1d54",
   "metadata": {},
   "source": [
    "## Folding Fibonacci\n",
    "\n",
    "To illustrate the workings of folding in HyperNova, we'll perform two iterations of our Fibonacci example:\n",
    "\n",
    "```rust\n",
    "// i-th iteration\n",
    "fibonacci(x_2, x_1, y_2, y_1) {\n",
    "    x = x_1 + x_2 // Fibonacci\n",
    "    y = y_1 * y_2 // Multiplicative Fibonacci\n",
    "    t = x * y     // Fibonacci x (Multiplicative Fibonacci)\n",
    "    (x, y, t)\n",
    "}\n",
    "```\n",
    "\n",
    "Recall that a Fibonacci iteration arithmetises in CCS as follows:\n",
    "\n",
    "$\\begin{align}  \n",
    "& \\overbrace{1}^{c_1} \\cdot \\overbrace{\\begin{bmatrix}   \n",
    "1 & 1 & 0 & 0 & 0 & 0 & 0 & 0 \\\\   0 & 0 & 0 & 0 & 1 & 0 & 0 & 0 \\\\ 0 & 0 & 1 & 0 & 0 & 0 & 0 & 0 \\\\ 0 & 0 & 0 & 0 & 0 & 0 & 0 & 0 \\\\  \\end{bmatrix}  }^{M_1} \n",
    "\\overbrace{\\begin{bmatrix} x_2 \\\\ x_1 \\\\ x \\\\ y_2 \\\\ y_1 \\\\ y \\\\ t \\\\ 1 \\end{bmatrix}}^z \\circ\n",
    "\\overbrace{\\begin{bmatrix}   0 & 0 & 0 & 0 & 0 & 0 & 0 & 1 \\\\   0 & 0 & 0 & 1 & 0 & 0 & 0 & 0 \\\\ 0 & 0 & 0 & 0 & 0 & 1 & 0 & 0 \\\\ 0 & 0 & 0 & 0 & 0 & 0 & 0 & 0 \\\\  \\end{bmatrix}}^{M_2}  \n",
    "\\overbrace{\\begin{bmatrix} x_2 \\\\ x_1 \\\\ x \\\\ y_2 \\\\ y_1 \\\\ y \\\\ t \\\\ 1 \\end{bmatrix}}^z \\\\\n",
    "+& \\overbrace{(-1)}^{c_1} \\cdot \\overbrace{\\begin{bmatrix}   0 & 0 & 1 & 0 & 0 & 0 & 0 & 0 \\\\   0 & 0 & 0 & 0 & 0 & 1 & 0 & 0 \\\\ 0 & 0 & 0 & 0 & 0 & 0 & 1 & 0 \\\\ 0 & 0 & 0 & 0 & 0 & 0 & 0 & 0 \\\\  \\end{bmatrix}}^{M_3} \n",
    "\\overbrace{\\begin{bmatrix} x_2 \\\\ x_1 \\\\ x \\\\ y_2 \\\\ y_1 \\\\ y \\\\ t \\\\ 1 \\end{bmatrix}}^z\n",
    "= \\overbrace{\\begin{bmatrix} 0 \\\\ 0 \\\\ 0 \\\\ 0 \\\\ 0 \\\\ 0 \\\\ 0 \\\\ 0 \\end{bmatrix}}^{\\vec{0}}\n",
    "\\end{align}$"
   ]
  },
  {
   "cell_type": "markdown",
   "id": "38b2f0a0",
   "metadata": {},
   "source": [
    "<div class=\"alert alert-block alert-info\">\n",
    "Multi-folding refers to the property that instances of different structures can be folded together. However, the structure $s_i$ for each instance in our fibonacci example will be the same. That is, $s = s_1 = s_2 = ([\\widetilde{M}_1, \\widetilde{M}_2, \\widetilde{M}_3], [S_1, S_2], [c_1, c_2])$, where $S_1 = \\{1, 2\\}$, $S_2 = \\{ 3 \\}$, $c_1 = 1$, $c_2 = -1$.\n",
    "</div>"
   ]
  },
  {
   "cell_type": "code",
   "execution_count": 1,
   "id": "d7a3fd0f",
   "metadata": {},
   "outputs": [],
   "source": [
    "# Necessary boilerplate from our last post\n",
    "k = GF(101)\n",
    "\n",
    "R = PolynomialRing(k, 10, \"x1, x2, y1, y2, y3, x11, x22, y11, y22, y33\")\n",
    "x1, x2, y1, y2, y3, x11, x22, y11, y22, y33 = R.gens()\n",
    "\n",
    "eqx = ((1 - x1)*(1 - x11) + x1*x11) * ((1 - x2)*(1 - x22) + x2*x22)\n",
    "eqy = ((1 - y1)*(1 - y11) + y1*y11) * ((1 - y2)*(1 - y22) + y2*y22) * ((1 - y3)*(1 - y33) + y3*y33)\n",
    "\n",
    "M1 = Matrix(k, [\n",
    "    [1,1,0,0,0,0,0,0],\n",
    "    [0,0,0,0,1,0,0,0],\n",
    "    [0,0,1,0,0,0,0,0],\n",
    "    [0,0,0,0,0,0,0,0]\n",
    "])\n",
    "\n",
    "M2 = Matrix(k, [\n",
    "    [0,0,0,0,0,0,0,1],\n",
    "    [0,0,0,1,0,0,0,0],\n",
    "    [0,0,0,0,0,1,0,0],\n",
    "    [0,0,0,0,0,0,0,0]\n",
    "])\n",
    "\n",
    "M3 = Matrix(k, [\n",
    "    [0,0,1,0,0,0,0,0],\n",
    "    [0,0,0,0,0,1,0,0],\n",
    "    [0,0,0,0,0,0,1,0],\n",
    "    [0,0,0,0,0,0,0,0]\n",
    "])"
   ]
  },
  {
   "cell_type": "markdown",
   "id": "557cd14f",
   "metadata": {},
   "source": [
    "Recall also that the multilinear extensions $\\widetilde{M_i}$ of $M_i$ and $\\widetilde{z}$ of $z$ are defined as \n",
    "\n",
    "$\\begin{aligned}\n",
    "\\widetilde{M_i}(X, Y) &:= \\sum_{x \\in \\{0, 1 \\}^{s}} \\sum_{y \\in \\{0, 1 \\}^{s'}} M_i(x, y) \\cdot \\widetilde{eq}(x, X) \\cdot \\widetilde{eq}(y, Y)\n",
    "\\end{aligned}$\n",
    "\n",
    "$\\widetilde{z}(Y) := \\sum_{y \\in \\{0, 1 \\}^{s'}} z(y) \\cdot \\widetilde{eq}(y, Y)$.\n",
    "\n",
    "And that to apply the sum-check, the CCS relation \n",
    "\n",
    "$1 \\cdot (M_1 \\cdot z \\circ M_2 \\cdot z) + (-1) \\cdot (M_3 \\cdot z) = \\vec{0}$\n",
    "\n",
    "is thus turned into a polynomial equation\n",
    "\n",
    "$\\begin{aligned}\n",
    "G((X_1, X_2)) := & 1 \\cdot (\\sum_{y \\in \\{0, 1 \\}^3} \\widetilde{M_1}((X_1, X_2), y) \\cdot \\widetilde{z}(y) \\cdot \\sum_{y \\in \\{0, 1 \\}^{3}} \\widetilde{M_1}((X_1, X_2), y) \\cdot \\widetilde{z}(y)) \\\\  + & (-1) \\cdot (\\sum_{y \\in \\{0, 1 \\}^{3}} \\widetilde{M_3}((X_1, X_2), y) \\cdot \\widetilde{z}(y)) = \\vec{0}\n",
    "\\end{aligned}$"
   ]
  },
  {
   "cell_type": "code",
   "execution_count": 2,
   "id": "5a59f0f7",
   "metadata": {},
   "outputs": [],
   "source": [
    "# From-binary-to-decimal polynomials\n",
    "row = x1 + 2*x2\n",
    "col = y1 + 2*y2 + 4*y3\n",
    "\n",
    "def Mi_linear(Mi):\n",
    "    return sum([\n",
    "            sum([\n",
    "                sum([\n",
    "                    sum([\n",
    "                        sum([\n",
    "                            Mi[Integer(row(x1=x1, x2=x2))][Integer(col(y1=y1,y2=y2,y3=y3))] * eqx(x1=x1,x2=x2,x11=x11,x22=x22) * eqy(y1=y1, y11=y11, y2=y2, y22=y22, y3=y3, y33=y33)\n",
    "                        for y3 in [0,1]])\n",
    "                    for y2 in [0,1]])\n",
    "                for y1 in [0,1]])\n",
    "            for x2 in [0,1]])\n",
    "         for x1 in [0,1]])\n",
    "\n",
    "def z_linear(zi):\n",
    "    return sum([\n",
    "                sum([\n",
    "                    sum([\n",
    "                        zi[Integer(col(y1=y1,y2=y2,y3=y3))]* eqy(y1=y1, y11=y11, y2=y2, y22=y22, y3=y3, y33=y33)\n",
    "                    for y3 in [0,1]])\n",
    "                for y2 in [0,1]])\n",
    "            for y1 in [0,1]])\n",
    "\n",
    "def Mi_z_prod(Mi, zi):\n",
    "        return sum([\n",
    "                sum([\n",
    "                    sum([\n",
    "                        Mi_linear(Mi)(y11=y1,y22=y2,y33=y3) * z_linear(zi)(y11=y1,y22=y2,y33=y3)\n",
    "                    for y3 in [0,1]])\n",
    "                for y2 in [0,1]])\n",
    "            for y1 in [0,1]])"
   ]
  },
  {
   "cell_type": "markdown",
   "id": "df6d44a6",
   "metadata": {},
   "source": [
    "## Iteration 1 (base case)\n",
    "\n",
    "As we did in our previous post, we provide the initial values $x_2 = 0, x_1 = 1, y_2=2, y_1=3$ to the Fibonacci step function, which outputs $x = 1, y=6, t=6$.\n",
    "\n",
    "The ingredients for our first iterations are:\n",
    "\n",
    "- Accumulated relation: $R_1 = \\bot \\in \\mathcal{R}_{LCCCS}$\n",
    "- Incoming relation: $R_2 = (s, C_2, \\times_2) \\in \\mathcal{R}_{CCCS}$\n",
    "- Accumulated instance: $\\widetilde{z}_1 = \\bot$ \n",
    "- Incoming instance: $\\widetilde{z}_2 = \\widetilde{(\\omega_2, \\times_2, 1)}$, where $\\omega_2 = ()$ and $\\times_2 = (0,1,1,2,3,6,6)$."
   ]
  },
  {
   "cell_type": "code",
   "execution_count": 3,
   "id": "de315e2e",
   "metadata": {},
   "outputs": [
    {
     "data": {
      "text/plain": [
       "(0, 1, 1, 2, 3, 6, 6, 1)"
      ]
     },
     "execution_count": 3,
     "metadata": {},
     "output_type": "execute_result"
    }
   ],
   "source": [
    "public_x2 = [0,1,1,2,3,6,6]\n",
    "private_w2 = []\n",
    "z2 = vector(k, private_w2 + public_x2 + [1])\n",
    "z2"
   ]
  },
  {
   "cell_type": "markdown",
   "id": "389b5538",
   "metadata": {},
   "source": [
    "### Checking $R_1 \\in \\mathcal{R}_{LCCCS}$\n",
    "\n",
    "$v_j = \\sum_{y\\in \\{0,1\\}^3} \\widetilde{M}_j(r,y) \\cdot \\widetilde{z}_1(y)$\n",
    "\n",
    "In this first iteration or base case, our accumulated instance $R_1$ is empty, so there is no sum-check to run."
   ]
  },
  {
   "cell_type": "markdown",
   "id": "06004cb0",
   "metadata": {},
   "source": [
    "### Checking for $R_2 \\in \\mathcal{R}_{CCCS}$\n",
    "\n",
    "The prover wants to prove that $G((x_1, x_2)) = 0$ for all $x_1, x_2 \\in \\{0,1\\}$ using the sum-check. \n",
    "\n",
    "That is $G((0,0))= G((0,1))= G((1,0))= G((1,1))=0$, where\n",
    "\n",
    "$\\begin{aligned}\n",
    "G((X_1, X_2)) := & 1 \\cdot (\\sum_{y \\in \\{0, 1 \\}^3} \\widetilde{M_1}((X_1, X_2), y) \\cdot \\widetilde{z}_2(y) \\cdot \\sum_{y \\in \\{0, 1 \\}^{3}} \\widetilde{M_2}((X_1, X_2), y) \\cdot \\widetilde{z}_2(y)) \\\\  + & (-1) \\cdot (\\sum_{y \\in \\{0, 1 \\}^{3}} \\widetilde{M_3}((X_1, X_2), y) \\cdot \\widetilde{z}_2(y)) = 0\n",
    "\\end{aligned}$"
   ]
  },
  {
   "cell_type": "code",
   "execution_count": 4,
   "id": "5cab0714",
   "metadata": {},
   "outputs": [
    {
     "data": {
      "text/plain": [
       "21*x11^2*x22^2 - 17*x11^2*x22 - 15*x11*x22^2 + 2*x11^2 + 11*x11*x22 - 2*x11"
      ]
     },
     "execution_count": 4,
     "metadata": {},
     "output_type": "execute_result"
    }
   ],
   "source": [
    "G = Mi_z_prod(M1, z2) * Mi_z_prod(M2, z2) - Mi_z_prod(M3, z2)\n",
    "G"
   ]
  },
  {
   "cell_type": "markdown",
   "id": "0b0ae586",
   "metadata": {},
   "source": [
    "As we did in the previous post, we compute the multilinear extension of $G((X_1,X_2))$, $h((X_1,X_2)) = \\sum_{x_1,x_2 \\in \\{0,1\\}} \\widetilde{eq}((X_1,X_2),(x_1,x_2)) \\cdot G((x_1, x_2))$.\n",
    "\n",
    "Checking that $h$ is the zero polynomial implies with high probability that for all $x \\in \\{ 0,1\\}^2$, $G(x) = 0$."
   ]
  },
  {
   "cell_type": "code",
   "execution_count": 5,
   "id": "e2a4032a",
   "metadata": {},
   "outputs": [
    {
     "data": {
      "text/plain": [
       "0"
      ]
     },
     "execution_count": 5,
     "metadata": {},
     "output_type": "execute_result"
    }
   ],
   "source": [
    "h = sum([\n",
    "        sum([\n",
    "            G(x11=x11, x22=x22) * eqx(x11=x11, x22=x22)\n",
    "            for x22 in [0,1]])\n",
    "     for x11 in [0,1]])\n",
    "\n",
    "h"
   ]
  },
  {
   "cell_type": "markdown",
   "id": "99adf1bf",
   "metadata": {},
   "source": [
    "To check that $h = 0$, we can apply the Swartz-Zippel lemma and evaluate $h$ at a random point $\\beta := (\\beta_1, \\beta_2)$. \n",
    "\n",
    "Thus, the verifier samples a random challenge $\\beta := (\\beta_1, \\beta_2)$."
   ]
  },
  {
   "cell_type": "code",
   "execution_count": 6,
   "id": "027b679f",
   "metadata": {},
   "outputs": [
    {
     "data": {
      "text/plain": [
       "(49, 54)"
      ]
     },
     "execution_count": 6,
     "metadata": {},
     "output_type": "execute_result"
    }
   ],
   "source": [
    "beta1 = k.random_element()\n",
    "beta2 = k.random_element()\n",
    "\n",
    "(beta1, beta2)"
   ]
  },
  {
   "cell_type": "markdown",
   "id": "69f14e71",
   "metadata": {},
   "source": [
    "The prover computes $h((\\beta_1,\\beta_2))$ and sends it to the verifier. The goal of the verifier is to check that $h((\\beta_1,\\beta_2))$ is indeed this sum:\n",
    "\n",
    "$h((\\beta_1,\\beta_2)) = \\sum_{x_1,x_2 \\in \\{0,1\\}} \\widetilde{eq}((\\beta_1,\\beta_2),(x_1,x_2)) \\cdot G((x_1, x_2))$\n",
    "\n",
    "Equivalently, it is checking that $\\sum_{x_1 \\in \\{0,1\\}}\\sum_{x_2 \\in \\{0,1\\}} Q(x_1, x_2) = 0$ where\n",
    "\n",
    "$Q(X_1, X_2) := G((X_1, X_2)) \\cdot \\widetilde{eq}((\\beta_1, \\beta_2), (X_1, X_2))$"
   ]
  },
  {
   "cell_type": "code",
   "execution_count": 7,
   "id": "b48256af",
   "metadata": {},
   "outputs": [
    {
     "data": {
      "text/plain": [
       "x11^3*x22^3 + 12*x11^3*x22^2 - 32*x11^2*x22^3 - 16*x11^3*x22 + 33*x11^2*x22^2 - 23*x11*x22^3 + 20*x11^3 - 34*x11^2*x22 - 19*x11*x22^2 + 18*x11^2 - 23*x11*x22 - 38*x11"
      ]
     },
     "execution_count": 7,
     "metadata": {},
     "output_type": "execute_result"
    }
   ],
   "source": [
    "Q = G * eqx(x1=beta1,x2=beta2)\n",
    "Q"
   ]
  },
  {
   "cell_type": "code",
   "execution_count": 8,
   "id": "5a816d54",
   "metadata": {},
   "outputs": [
    {
     "data": {
      "text/plain": [
       "True"
      ]
     },
     "execution_count": 8,
     "metadata": {},
     "output_type": "execute_result"
    }
   ],
   "source": [
    "sum([ \n",
    "    sum([ Q(x11=x1, x22=x2) for x2 in [0,1]])\n",
    "for x1 in [0,1]]) == 0"
   ]
  },
  {
   "cell_type": "markdown",
   "id": "a5edeffb",
   "metadata": {},
   "source": [
    "#### Round 1\n",
    "\n",
    "The prover $P$ sends the verifier $V$ a univariate polynomial $s_1(X_1)$ claiming to be equal to $Q_1(X_1) := \\sum_{x_2 \\in \\{0,1\\}} Q(X_1, x_2)$. That is, we keep the first variable unbound while summing up the values over the boolean hypercube. "
   ]
  },
  {
   "cell_type": "code",
   "execution_count": 9,
   "id": "fa2d46b1",
   "metadata": {},
   "outputs": [
    {
     "data": {
      "text/plain": [
       "37*x11^3 + 3*x11^2 - 40*x11"
      ]
     },
     "execution_count": 9,
     "metadata": {},
     "output_type": "execute_result"
    }
   ],
   "source": [
    "Q1 = sum([ Q(x22=x2) for x2 in [0,1]])\n",
    "s1 = Q1\n",
    "\n",
    "s1"
   ]
  },
  {
   "cell_type": "markdown",
   "id": "a8bacb0d",
   "metadata": {},
   "source": [
    "The verifier first checks that $s_1(0) + s_1(1)$ matches the expected result, i.e. $s_1(0) + s_1(1) = 0$"
   ]
  },
  {
   "cell_type": "code",
   "execution_count": 10,
   "id": "f2cf9aaf",
   "metadata": {},
   "outputs": [
    {
     "data": {
      "text/plain": [
       "True"
      ]
     },
     "execution_count": 10,
     "metadata": {},
     "output_type": "execute_result"
    }
   ],
   "source": [
    "s1(x11=0) + s1(x11=1) == 0"
   ]
  },
  {
   "cell_type": "markdown",
   "id": "41022971",
   "metadata": {},
   "source": [
    "The verifier checks $s_1 = Q_1$ by checking that $Q_1$ and $s_1$ agree at a random point $r_1$ (Schwartz-Zippel lemma)"
   ]
  },
  {
   "cell_type": "code",
   "execution_count": 11,
   "id": "0e842f62",
   "metadata": {},
   "outputs": [
    {
     "data": {
      "text/plain": [
       "4"
      ]
     },
     "execution_count": 11,
     "metadata": {},
     "output_type": "execute_result"
    }
   ],
   "source": [
    "r1 = k.random_element()\n",
    "r1"
   ]
  },
  {
   "cell_type": "markdown",
   "id": "79808b33",
   "metadata": {},
   "source": [
    "The verifier can compute directly $s_1(r_1)$ but doesn't know what $Q_1$ is, so the check $s_1 = Q_1$ must be done recursively."
   ]
  },
  {
   "cell_type": "markdown",
   "id": "9b9a7c2c",
   "metadata": {},
   "source": [
    "#### Round 2 (final)\n",
    "\n",
    "The new claim is that $s_1(r_1) := \\sum_{x_2 \\in \\{0,1\\}} Q(r_1, x_2)$"
   ]
  },
  {
   "cell_type": "markdown",
   "id": "7755ea23",
   "metadata": {},
   "source": [
    "The prover sends the verifier a univariate $s_2(X_2)$ which he claims to be equal to  $Q_2(X_2) := Q(r_1, X_2)$."
   ]
  },
  {
   "cell_type": "code",
   "execution_count": 12,
   "id": "8ebc34d6",
   "metadata": {},
   "outputs": [
    {
     "data": {
      "text/plain": [
       "-35*x22^3 + 8*x22^2 - 44*x22 + 2"
      ]
     },
     "execution_count": 12,
     "metadata": {},
     "output_type": "execute_result"
    }
   ],
   "source": [
    "Q2 = Q(x11=r1)\n",
    "s2 = Q2\n",
    "\n",
    "s2"
   ]
  },
  {
   "cell_type": "markdown",
   "id": "8c0ed8c8",
   "metadata": {},
   "source": [
    "The verifier first checks that $s_1(r_1)$ is indeed $s_2(0) + s_2(1)$"
   ]
  },
  {
   "cell_type": "code",
   "execution_count": 13,
   "id": "a8bd0e8e",
   "metadata": {},
   "outputs": [
    {
     "data": {
      "text/plain": [
       "True"
      ]
     },
     "execution_count": 13,
     "metadata": {},
     "output_type": "execute_result"
    }
   ],
   "source": [
    "s2(x22=0) + s2(x22=1) == s1(x11=r1)"
   ]
  },
  {
   "cell_type": "markdown",
   "id": "cf176137",
   "metadata": {},
   "source": [
    "The verifier sends a random challenge $r_2$ to check that $s_2(r_2) = Q_2(r_2)$."
   ]
  },
  {
   "cell_type": "code",
   "execution_count": 14,
   "id": "388a4d07",
   "metadata": {},
   "outputs": [
    {
     "data": {
      "text/plain": [
       "50"
      ]
     },
     "execution_count": 14,
     "metadata": {},
     "output_type": "execute_result"
    }
   ],
   "source": [
    "r2 = k.random_element()\n",
    "r2"
   ]
  },
  {
   "cell_type": "markdown",
   "id": "719198d1",
   "metadata": {},
   "source": [
    "There is no more need for recursion, since the verifier may now evaluate $Q(r_1, r_2) = Q_2(r_2)$.\n",
    "\n",
    "However, to compute $Q_2(r_2)$ the verifier must know the value of the sums\n",
    "\n",
    "$\\begin{align}\n",
    "v_i &= \\sum_{y_1 \\in \\{0, 1 \\}} \\sum_{y_2 \\in \\{0, 1 \\}} \\sum_{y_3 \\in \\{0, 1 \\}} \\widetilde{M_i}((r_1, r_2), (y_1, y_2, y_3)) \\cdot \\widetilde{z}_2((y_1, y_2, y_3)) \\\\\n",
    "\\end{align}$"
   ]
  },
  {
   "cell_type": "markdown",
   "id": "bcbb503b",
   "metadata": {},
   "source": [
    "To assist the verifier in this computation, the prover computes \n",
    "$v_i = \\sum_{y \\in \\{0, 1 \\}^3} \\widetilde{M_i}((r_1, r_2), y) \\cdot \\widetilde{z}_2(y)$ and sends them to the verifier."
   ]
  },
  {
   "cell_type": "code",
   "execution_count": 15,
   "id": "5ca724dc",
   "metadata": {},
   "outputs": [
    {
     "data": {
      "text/plain": [
       "(15, -34, -10)"
      ]
     },
     "execution_count": 15,
     "metadata": {},
     "output_type": "execute_result"
    }
   ],
   "source": [
    "def v_generator(Mi, zi):\n",
    "    return sum([\n",
    "        sum([\n",
    "            sum([\n",
    "                Mi_linear(Mi)(x11=r1, x22= r2, y11=y1,y22=y2,y33=y3) * z_linear(zi)(y11=y1,y22=y2,y33=y3)\n",
    "            for y3 in [0,1]])\n",
    "        for y2 in [0,1]])\n",
    "    for y1 in [0,1]])\n",
    "\n",
    "v1 = v_generator(M1, z2)\n",
    "v2 = v_generator(M2, z2)\n",
    "v3 = v_generator(M3, z2)\n",
    "\n",
    "(v1,v2,v3)"
   ]
  },
  {
   "cell_type": "markdown",
   "id": "1425fbbb",
   "metadata": {},
   "source": [
    "### Accumulating sum-checks into $R_3 \\in \\mathcal{R}_{LCCCS}$\n",
    "\n",
    "Instead of engaging in a sum-check now, they construct $R_3 \\in \\mathcal{R}_{LCCCS}$, which serves as an accumulation of these inner sum-checks:\n",
    "\n",
    "$R_3 = (s, C_3, (u_3, \\times_3, (r_1, r_2), \\{v_1,v_2,v_3\\}))$\n",
    "\n",
    "where\n",
    "- $C_3 = C_2$\n",
    "- $u_3 = 1$\n",
    "- $\\times_3 = \\times_2$\n",
    "\n",
    "So, by checking $R_3$ in a future step, the verifier will verify that $v_1, v_2, v_3$ were computed correctly, thus avoiding running any inner sum-check at this step. **Folding for the win!**"
   ]
  },
  {
   "cell_type": "code",
   "execution_count": 16,
   "id": "59ae8892",
   "metadata": {},
   "outputs": [],
   "source": [
    "u3 = 1\n",
    "public_x3 = public_x2"
   ]
  },
  {
   "cell_type": "markdown",
   "id": "95605a01",
   "metadata": {},
   "source": [
    "## Iteration 2 (iterative case)\n",
    "\n",
    "- Accumulated relation $R'_1 = R_3 = (s, C_3, (u_3, \\times_3, (r_1, r_2), \\{v_1,v_2,v_3\\})) \\in \\mathcal{R}_{LCCCS}$\n",
    "- Incoming relation $R'_2 = (s, C'_2, \\times'_2) \\in \\mathcal{R}_{CCCS}$\n",
    "- Accumulated instance $\\widetilde{z}'_1 = \\widetilde{(\\omega_3, \\times_3, u_3)}$\n",
    "- Incoming instance $\\widetilde{z}'_2 = \\widetilde{(\\omega'_2, \\times'_2, 1)}$ where $\\omega'_2 = ()$ and $\\times'_2 = (1,1,2,3,6,18,36)$."
   ]
  },
  {
   "cell_type": "code",
   "execution_count": 17,
   "id": "c0e33d36",
   "metadata": {},
   "outputs": [
    {
     "data": {
      "text/plain": [
       "(0, 1, 1, 2, 3, 6, 6, 1)"
      ]
     },
     "execution_count": 17,
     "metadata": {},
     "output_type": "execute_result"
    }
   ],
   "source": [
    "public_xx1 = public_x3\n",
    "zz1 = vector(k, public_xx1 + [] + [1])\n",
    "zz1"
   ]
  },
  {
   "cell_type": "code",
   "execution_count": 18,
   "id": "24fa6073",
   "metadata": {},
   "outputs": [
    {
     "data": {
      "text/plain": [
       "(1, 1, 2, 3, 6, 18, 36, 1)"
      ]
     },
     "execution_count": 18,
     "metadata": {},
     "output_type": "execute_result"
    }
   ],
   "source": [
    "public_xx2 = [1,1,2,3,6,18,36]\n",
    "zz2 = vector(k, public_xx2 + [] + [1])\n",
    "zz2"
   ]
  },
  {
   "cell_type": "markdown",
   "id": "d5274c8e",
   "metadata": {},
   "source": [
    "### Checking $R'_1 \\in \\mathcal{R}_{LCCCS}$\n",
    "\n",
    "The verifier wants to check that $v_i = H'_i((r_1, r_2))$, where $H'_i(x) = \\sum_{y \\in \\{0, 1 \\}^3} \\widetilde{M_i}(x, y) \\cdot \\widetilde{z}'_1(y)$, as the prover claims.\n",
    "\n",
    "By lemma 6 of the HyperNova paper, since $H_i$ is a multilinear polynomial in two variables, $H_i((X_1, X_2)) = \\sum_{x_1 \\in \\{0, 1 \\}} \\sum_{x_2 \\in \\{0, 1 \\}} \\widetilde{eq}((X_1, X_2), (x_1, x_2)) \\cdot H_i((x_1, x_2))$.\n",
    "\n",
    "So the prover is tasked to convince the verifier that\n",
    "\n",
    "$v_i = H_i((r_1, r_2)) = \\sum_{x_1 \\in \\{0, 1 \\}} \\sum_{x_2 \\in \\{0, 1 \\}}  L_i((x_1, x_2))$\n",
    "\n",
    "where\n",
    "$L_i((X_1, X_2)) = \\widetilde{eq}((r_1, r_2), (X_1, X_2)) \\cdot H_i((X_1, X_2))$"
   ]
  },
  {
   "cell_type": "code",
   "execution_count": 19,
   "id": "c73f4b12",
   "metadata": {},
   "outputs": [
    {
     "data": {
      "text/plain": [
       "(-3*x11*x22 + 2*x11 + 1,\n",
       " -7*x11*x22 + x11 + 5*x22 + 1,\n",
       " -11*x11*x22 + 5*x11 + 5*x22 + 1)"
      ]
     },
     "execution_count": 19,
     "metadata": {},
     "output_type": "execute_result"
    }
   ],
   "source": [
    "def H_generator(Mi, zi):\n",
    "    return sum([\n",
    "        sum([\n",
    "            sum([\n",
    "                Mi_linear(Mi)(y11=y1,y22=y2,y33=y3) * z_linear(zi)(y11=y1,y22=y2,y33=y3)\n",
    "            for y3 in [0,1]])\n",
    "        for y2 in [0,1]])\n",
    "    for y1 in [0,1]])\n",
    "\n",
    "H1 = H_generator(M1, zz1)\n",
    "H2 = H_generator(M2, zz1)\n",
    "H3 = H_generator(M3, zz1)\n",
    "\n",
    "(H1, H2, H3)"
   ]
  },
  {
   "cell_type": "code",
   "execution_count": 20,
   "id": "c7dc5605",
   "metadata": {},
   "outputs": [
    {
     "data": {
      "text/plain": [
       "(42*x11^2*x22^2 - 9*x11^2*x22 - 18*x11*x22^2 + 21*x11^2 - 39*x11*x22 - 49*x11 + 6*x22 + 46,\n",
       " -3*x11^2*x22^2 - 37*x11^2*x22 - 11*x11*x22^2 - 40*x11^2 - 25*x11*x22 + 30*x22^2 + 6*x11 + 34*x22 + 46,\n",
       " -48*x11^2*x22^2 - 34*x11^2*x22 - 35*x11*x22^2 + 2*x11^2 + 17*x11*x22 + 30*x22^2 - 12*x11 + 34*x22 + 46)"
      ]
     },
     "execution_count": 20,
     "metadata": {},
     "output_type": "execute_result"
    }
   ],
   "source": [
    "L1 = eqx(x1 = r1, x2= r2) * H1\n",
    "L2 = eqx(x1 = r1, x2= r2) * H2\n",
    "L3 = eqx(x1 = r1, x2= r2) * H3\n",
    "\n",
    "(L1, L2, L3)"
   ]
  },
  {
   "cell_type": "code",
   "execution_count": 21,
   "id": "3d0cd8a2",
   "metadata": {},
   "outputs": [
    {
     "data": {
      "text/plain": [
       "True"
      ]
     },
     "execution_count": 21,
     "metadata": {},
     "output_type": "execute_result"
    }
   ],
   "source": [
    "# Sanity check\n",
    "H1(x11= r1, x22=r2) == sum([ sum([ L1(x11=x1, x22=x2) for x2 in [0,1]])for x1 in [0,1]])"
   ]
  },
  {
   "cell_type": "markdown",
   "id": "86e57f4b",
   "metadata": {},
   "source": [
    "### Batching sum-checks in $R'_1 \\in \\mathcal{R}_{LCCCS}$\n",
    "\n",
    "Instead of engaging in three separate sum-checks, the verifier samples a random element $\\gamma \\in \\mathbb{F}$, and the three sums $\\sum_{x_1 \\in \\{0, 1 \\}} \\sum_{x_2 \\in \\{0, 1 \\}}  L_i((x_1, x_2))$ for $i \\in \\{1,2,3\\}$ are simultaneously checked together by using a random linear combination of $L_i$, $g_1(x) = \\sum_{j \\in \\{1,2,3\\}} \\gamma^j \\cdot L_j(x)$"
   ]
  },
  {
   "cell_type": "markdown",
   "id": "c7c2d329",
   "metadata": {},
   "source": [
    "Checking that \n",
    "\n",
    "$\\sum_{j \\in \\{1,2,3\\}} \\gamma^j \\cdot v_j = \\sum_{x_1 \\in \\{0, 1 \\}} \\sum_{x_2 \\in \\{0, 1 \\}}  g_1((x_1, x_2))$\n",
    "\n",
    "implies with high probability that\n",
    "\n",
    "$v_i = \\sum_{x_1 \\in \\{0, 1 \\}} \\sum_{x_2 \\in \\{0, 1 \\}}  L_i((x_1, x_2))$ \n",
    "\n",
    "for each $i \\in \\{1,2,3\\}$."
   ]
  },
  {
   "cell_type": "code",
   "execution_count": 22,
   "id": "da366d98",
   "metadata": {},
   "outputs": [
    {
     "data": {
      "text/plain": [
       "84"
      ]
     },
     "execution_count": 22,
     "metadata": {},
     "output_type": "execute_result"
    }
   ],
   "source": [
    "gamma = k.random_element()\n",
    "gamma"
   ]
  },
  {
   "cell_type": "code",
   "execution_count": 23,
   "id": "de0622c4",
   "metadata": {},
   "outputs": [
    {
     "data": {
      "text/plain": [
       "24*x11^2*x22^2 - 48*x11^2*x22 + 8*x11*x22^2 - 28*x11^2 + 9*x11*x22 - 47*x22^2 + 14*x11 + 40*x22 + 28"
      ]
     },
     "execution_count": 23,
     "metadata": {},
     "output_type": "execute_result"
    }
   ],
   "source": [
    "g1 = gamma * L1 + gamma^2 * L2 + gamma^3 * L3\n",
    "g1"
   ]
  },
  {
   "cell_type": "code",
   "execution_count": 24,
   "id": "eee3056a",
   "metadata": {},
   "outputs": [
    {
     "data": {
      "text/plain": [
       "True"
      ]
     },
     "execution_count": 24,
     "metadata": {},
     "output_type": "execute_result"
    }
   ],
   "source": [
    "sum([ \n",
    "    sum([ g1(x11=x1, x22=x2) for x2 in [0,1]])\n",
    "for x1 in [0,1]]) == gamma * v1 + gamma^2 * v2 + gamma^3 * v3"
   ]
  },
  {
   "cell_type": "markdown",
   "id": "e421b1cf",
   "metadata": {},
   "source": [
    "The prover thus sends the sum $\\sum_{j \\in \\{1,2,3\\}} \\gamma^j \\cdot v_j$ to the verifier. \n",
    "\n",
    "Note that the verifier is delaying these checks for now. They will later be further batched with other sum-checks from $R'_2$."
   ]
  },
  {
   "cell_type": "markdown",
   "id": "27219c6c",
   "metadata": {},
   "source": [
    "### Checking $R'_2 \\in \\mathcal{R}_{CCCS}$\n",
    "\n",
    "As we did for $R_2$, the verifier aims to check that $0 = G'(X), X \\in \\{ 0,1\\}^2$, where\n",
    "\n",
    "$\\begin{aligned}\n",
    "G'((X_1, X_2)) := & \\sum_{y \\in \\{0, 1 \\}^3} \\widetilde{M_1}((X_1, X_2), y) \\cdot \\widetilde{z}'_2(y) \\cdot \\sum_{y \\in \\{0, 1 \\}^{3}} \\widetilde{M_2}((X_1, X_2), y) \\cdot \\widetilde{z}'_2(y) \\\\  - & (\\sum_{y \\in \\{0, 1 \\}^{3}} \\widetilde{M_3}((X_1, X_2), y) \\cdot \\widetilde{z}'_2(y)) = 0\n",
    "\\end{aligned}$\n",
    "\n",
    "$\\widetilde{z}'_2 = \\widetilde{(\\omega'_2, \\times'_2, 1)}$ where $\\omega'_2 = ()$ and $\\times'_2 = (1,1,2,3,6,18,36)$\n",
    "\n",
    "This is equivalent to checking that $\\sum_{x_1 \\in \\{0,1\\}}\\sum_{x_2 \\in \\{0,1\\}} Q'(x_1, x_2) = 0$ where\n",
    "\n",
    "$Q'(X_1, X_2) := G'((X_1, X_2)) \\cdot \\widetilde{eq}((\\beta'_1, \\beta'_2), (X_1, X_2))$, since\n",
    "\n",
    "$\\sum_{x_1 \\in \\{0,1\\}}\\sum_{x_2 \\in \\{0,1\\}} G'((x_1, x_2)) \\cdot \\widetilde{eq}((X_1, X_2), (x_1, x_2))$ is a multilinear polynomial, thus uniquely determined, so it is equal to zero. Thus we apply the Schwartz-Zippel lemma by randomly evaluate it to $(\\beta'_1, \\beta'_2)$."
   ]
  },
  {
   "cell_type": "code",
   "execution_count": 25,
   "id": "6f0e2939",
   "metadata": {},
   "outputs": [
    {
     "data": {
      "text/plain": [
       "19*x11^2*x22^2 + 9*x11^2*x22 - x11*x22^2 + 8*x11^2 - 27*x11*x22 - 8*x11"
      ]
     },
     "execution_count": 25,
     "metadata": {},
     "output_type": "execute_result"
    }
   ],
   "source": [
    "GG = Mi_z_prod(M1, zz2) * Mi_z_prod(M2, zz2) - Mi_z_prod(M3, zz2)\n",
    "GG"
   ]
  },
  {
   "cell_type": "markdown",
   "id": "f0e0fb28",
   "metadata": {},
   "source": [
    "The verifier samples a random challenge $\\beta' := (\\beta'_1, \\beta'_2)$."
   ]
  },
  {
   "cell_type": "code",
   "execution_count": 26,
   "id": "3b346de0",
   "metadata": {},
   "outputs": [
    {
     "data": {
      "text/plain": [
       "(0, 44)"
      ]
     },
     "execution_count": 26,
     "metadata": {},
     "output_type": "execute_result"
    }
   ],
   "source": [
    "beta11 = k.random_element()\n",
    "beta22 = k.random_element()\n",
    "\n",
    "(beta11, beta22)"
   ]
  },
  {
   "cell_type": "code",
   "execution_count": 27,
   "id": "38007690",
   "metadata": {},
   "outputs": [
    {
     "data": {
      "text/plain": [
       "-37*x11^3*x22^3 + 34*x11^3*x22^2 + 23*x11^2*x22^3 - 6*x11^3*x22 + 50*x11^2*x22^2 + 14*x11*x22^3 + 41*x11^3 + 46*x11^2*x22 + 17*x11*x22^2 + 19*x11^2 - 40*x11*x22 + 41*x11"
      ]
     },
     "execution_count": 27,
     "metadata": {},
     "output_type": "execute_result"
    }
   ],
   "source": [
    "QQ = GG * eqx(x1=beta11,x2=beta22)\n",
    "QQ"
   ]
  },
  {
   "cell_type": "markdown",
   "id": "d652f55d",
   "metadata": {},
   "source": [
    "### Batching sum-checks in $R'_1 \\in \\mathcal{R}_{LCCCS}$ and  $R'_2 \\in \\mathcal{R}_{CCCS}$\n",
    "\n",
    "\n",
    "We now batch:\n",
    "- The remaining batched check on $R'_1$, $g_1(x) = \\sum_{j \\in \\{1,2,3\\}} \\gamma^j \\cdot L_j(x)$\n",
    "- The new check $G'(x) = 0$\n",
    "\n",
    "Using a random linear combination $g(x) = g_1(x) + \\gamma^4 Q'(x)$.\n",
    "\n",
    "As expected, proving the new sum:\n",
    "\n",
    "$\\sum_{j \\in \\{1,2,3\\}} \\gamma^j \\cdot v_j + \\gamma^4 \\cdot 0 = \\sum_{x_1 \\in \\{0, 1 \\}} \\sum_{x_2 \\in \\{0, 1 \\}}  g((x_1, x_2))$\n",
    "\n",
    "will in turn prove with high probability the batched checks."
   ]
  },
  {
   "cell_type": "code",
   "execution_count": 28,
   "id": "624445d8",
   "metadata": {},
   "outputs": [
    {
     "data": {
      "text/plain": [
       "20*x11^3*x22^3 - 2*x11^3*x22^2 - 37*x11^2*x22^3 + 36*x11^3*x22 + 27*x11^2*x22^2 + 17*x11*x22^3 - 44*x11^3 - 21*x11^2*x22 + 7*x11*x22^2 - 41*x11^2 + 47*x11*x22 - 47*x22^2 - 30*x11 + 40*x22 + 28"
      ]
     },
     "execution_count": 28,
     "metadata": {},
     "output_type": "execute_result"
    }
   ],
   "source": [
    "g = g1 + gamma^4 * QQ\n",
    "g"
   ]
  },
  {
   "cell_type": "markdown",
   "id": "cdc6eae0",
   "metadata": {},
   "source": [
    "$v = \\sum_{j \\in \\{1,2,3\\}} \\gamma^j \\cdot v_j + \\gamma^4 \\cdot 0$"
   ]
  },
  {
   "cell_type": "code",
   "execution_count": 29,
   "id": "5f5065e1",
   "metadata": {},
   "outputs": [
    {
     "data": {
      "text/plain": [
       "-38"
      ]
     },
     "execution_count": 29,
     "metadata": {},
     "output_type": "execute_result"
    }
   ],
   "source": [
    "v = (gamma^1 * v1 + gamma^2 * v2 + gamma^3 * v3) + gamma^4 * 0\n",
    "v"
   ]
  },
  {
   "cell_type": "code",
   "execution_count": 30,
   "id": "81a5359d",
   "metadata": {},
   "outputs": [
    {
     "data": {
      "text/plain": [
       "True"
      ]
     },
     "execution_count": 30,
     "metadata": {},
     "output_type": "execute_result"
    }
   ],
   "source": [
    "sum([ \n",
    "    sum([ g(x11=x1, x22=x2) for x2 in [0,1]])\n",
    "for x1 in [0,1]]) == v"
   ]
  },
  {
   "cell_type": "markdown",
   "id": "28ffbdb1",
   "metadata": {},
   "source": [
    "#### Round 1\n",
    "Prover sends $s'_1$ claiming to be $g'_1$\n",
    "\n",
    "$g'_1(X_1) := \\sum_{x_2 \\in \\{0,1\\}} g(X_1, x_2)$"
   ]
  },
  {
   "cell_type": "code",
   "execution_count": 31,
   "id": "40628c34",
   "metadata": {},
   "outputs": [
    {
     "data": {
      "text/plain": [
       "-34*x11^3 - 12*x11^2 + 11*x11 + 49"
      ]
     },
     "execution_count": 31,
     "metadata": {},
     "output_type": "execute_result"
    }
   ],
   "source": [
    "gg1 = sum([ g(x22=x2) for x2 in [0,1]])\n",
    "ss1 = gg1\n",
    "\n",
    "ss1"
   ]
  },
  {
   "cell_type": "markdown",
   "id": "4f3fca2f",
   "metadata": {},
   "source": [
    "The verifier first checks that $s'_1(0) + s'_1(1)$ matches the expected result, i.e. $s'_1(0) + s'_1(1) = v$"
   ]
  },
  {
   "cell_type": "code",
   "execution_count": 32,
   "id": "46567115",
   "metadata": {},
   "outputs": [
    {
     "data": {
      "text/plain": [
       "True"
      ]
     },
     "execution_count": 32,
     "metadata": {},
     "output_type": "execute_result"
    }
   ],
   "source": [
    "ss1(x11=0) + ss1(x11=1) == v"
   ]
  },
  {
   "cell_type": "markdown",
   "id": "69d95751",
   "metadata": {},
   "source": [
    "The verifier checks $s'_1 = g'_1$ by checking that $g'_1$ and $s'_1$ agree at a random point $r'_1$ (Schwartz-Zippel lemma)"
   ]
  },
  {
   "cell_type": "code",
   "execution_count": 33,
   "id": "40f4b817",
   "metadata": {},
   "outputs": [
    {
     "data": {
      "text/plain": [
       "61"
      ]
     },
     "execution_count": 33,
     "metadata": {},
     "output_type": "execute_result"
    }
   ],
   "source": [
    "rr1 = k.random_element()\n",
    "rr1"
   ]
  },
  {
   "cell_type": "markdown",
   "id": "db74a60d",
   "metadata": {},
   "source": [
    "The verifier can compute directly $s'_1(r'_1)$ but doesn't know what $g'_1$ is, so the check $s'_1 = g'_1$ must be done recursively."
   ]
  },
  {
   "cell_type": "markdown",
   "id": "79c46d92",
   "metadata": {},
   "source": [
    "#### Round 2 (final)\n",
    "\n",
    "The new claim is that $s'_1(r'_1) := \\sum_{x_2 \\in \\{0,1\\}} g(r'_1, x_2)$"
   ]
  },
  {
   "cell_type": "markdown",
   "id": "3d083b2f",
   "metadata": {},
   "source": [
    "The prover sends the verifier a univariate $s'_2(X_2)$ which he claims to be equal to  $g'_2(X_2) := g(r'_1, X_2)$."
   ]
  },
  {
   "cell_type": "code",
   "execution_count": 34,
   "id": "6c966759",
   "metadata": {},
   "outputs": [
    {
     "data": {
      "text/plain": [
       "-14*x22^3 - 19*x22^2 + 23*x22 - 16"
      ]
     },
     "execution_count": 34,
     "metadata": {},
     "output_type": "execute_result"
    }
   ],
   "source": [
    "gg2 = g(x11=rr1)\n",
    "ss2 = gg2\n",
    "\n",
    "ss2"
   ]
  },
  {
   "cell_type": "markdown",
   "id": "ad5c59b0",
   "metadata": {},
   "source": [
    "The verifier first checks that $s'_1(r_1)$ is indeed $s'_2(0) + s'_2(1)$"
   ]
  },
  {
   "cell_type": "code",
   "execution_count": 35,
   "id": "f0b582c2",
   "metadata": {},
   "outputs": [
    {
     "data": {
      "text/plain": [
       "True"
      ]
     },
     "execution_count": 35,
     "metadata": {},
     "output_type": "execute_result"
    }
   ],
   "source": [
    "ss2(x22=0) + ss2(x22=1) == ss1(x11=rr1)"
   ]
  },
  {
   "cell_type": "markdown",
   "id": "aeb0be68",
   "metadata": {},
   "source": [
    "The verifier sends a random challenge $r'_2$ to check that $s'_2(r'_2) = g'_2(r'_2)$."
   ]
  },
  {
   "cell_type": "code",
   "execution_count": 36,
   "id": "c049efa4",
   "metadata": {},
   "outputs": [
    {
     "data": {
      "text/plain": [
       "84"
      ]
     },
     "execution_count": 36,
     "metadata": {},
     "output_type": "execute_result"
    }
   ],
   "source": [
    "rr2 = k.random_element()\n",
    "rr2"
   ]
  },
  {
   "cell_type": "markdown",
   "id": "70235976",
   "metadata": {},
   "source": [
    "There is no more need for recursion, since the verifier may now evaluate $g(r'_1, r'_2) = g'_2(r'_2)$.\n",
    "\n",
    "However, to compute $g'_2(r'_2)$ the verifier must know the value of the sums\n",
    "\n",
    "$\\sigma_i = \\sum_{y \\in \\{0, 1 \\}^3} \\widetilde{M_i}((r'_1, r'_2), y) \\cdot \\widetilde{z}'_1(y)$\n",
    "\n",
    "$\\theta_i = \\sum_{y \\in \\{0, 1 \\}^3} \\widetilde{M_i}((r'_1, r'_2), y) \\cdot \\widetilde{z}'_2(y)$\n",
    "\n",
    "for $i \\in \\{1,2,3\\}$, since\n",
    "\n",
    "$\n",
    "\\begin{align}\n",
    "s'_2(r'_2) = g'_2(r'_2) &= g((r'_1, r'_2)) \\\\\n",
    "&= g_1((r'_1, r'_2)) + \\gamma^4 Q'((r'_1, r'_2)) \\\\\n",
    "&= \\sum_{j \\in \\{1,2,3\\}} \\gamma^j \\cdot L_j((r'_1, r'_2)) + \\gamma^4 G'((r'_1, r'_2)) \\cdot \\widetilde{eq}((\\beta'_1, \\beta'_2), (r'_1, r'_2)) \\\\\n",
    "&= \\sum_{j \\in \\{1,2,3\\}} \\gamma^j \\cdot \\widetilde{eq}((r_1, r_2), (r'_1, r'_2)) \\cdot H_j((r'_1, r'_2)) \\\\ \n",
    "&+ \\gamma^4 \\cdot (\\sum_{y \\in \\{0, 1 \\}^3} \\widetilde{M_1}((r'_1, r'_2), y) \\cdot \\widetilde{z}'_2(y) \\cdot \\sum_{y \\in \\{0, 1 \\}^{3}} \\widetilde{M_2}((r'_1, r'_2), y) \\cdot \\widetilde{z}'_2(y)) - (\\sum_{y \\in \\{0, 1 \\}^{3}} \\widetilde{M_3}((r'_1, r'_2), y) \\cdot \\widetilde{z}'_2(y)))) \\cdot \\widetilde{eq}((\\beta'_1, \\beta'_2), (r'_1, r'_2))) \\\\\n",
    "&= (\\gamma \\cdot \\sigma_1 + \\gamma^2 \\cdot  \\sigma_2 + \\gamma^3 \\cdot \\sigma_3) \\cdot \\widetilde{eq}((r_1, r_2), (r'_1, r'_2)) + \\gamma^4 \\cdot (\\theta_1 * \\theta_2 - \\theta_3) \\cdot \\widetilde{eq}((\\beta'_1, \\beta'_2), (r'_1, r'_2)))\n",
    "\\end{align}\n",
    "$"
   ]
  },
  {
   "cell_type": "markdown",
   "id": "0fc826c7",
   "metadata": {},
   "source": [
    "To assist the verifier, the prover sends $\\sigma_i$ and $\\theta_i$."
   ]
  },
  {
   "cell_type": "code",
   "execution_count": 37,
   "id": "41098882",
   "metadata": {},
   "outputs": [
    {
     "data": {
      "text/plain": [
       "((2, -36, 13), (4, -30, -14))"
      ]
     },
     "execution_count": 37,
     "metadata": {},
     "output_type": "execute_result"
    }
   ],
   "source": [
    "def v_generator(Mi, zi):\n",
    "    return sum([\n",
    "        sum([\n",
    "            sum([\n",
    "                Mi_linear(Mi)(x11=rr1, x22= rr2, y11=y1,y22=y2,y33=y3) * z_linear(zi)(y11=y1,y22=y2,y33=y3)\n",
    "            for y3 in [0,1]])\n",
    "        for y2 in [0,1]])\n",
    "    for y1 in [0,1]])\n",
    "\n",
    "sigma1 = v_generator(M1, zz1)\n",
    "sigma2 = v_generator(M2, zz1)\n",
    "sigma3 = v_generator(M3, zz1)\n",
    "\n",
    "theta1 = v_generator(M1, zz2)\n",
    "theta2 = v_generator(M2, zz2)\n",
    "theta3 = v_generator(M3, zz2)\n",
    "\n",
    "(sigma1, sigma2, sigma3), (theta1, theta2, theta3)"
   ]
  },
  {
   "cell_type": "code",
   "execution_count": 38,
   "id": "54bad720",
   "metadata": {},
   "outputs": [
    {
     "data": {
      "text/plain": [
       "True"
      ]
     },
     "execution_count": 38,
     "metadata": {},
     "output_type": "execute_result"
    }
   ],
   "source": [
    "g(x11=rr1, x22=rr2) == (gamma * sigma1 + gamma^2 * sigma2 + gamma^3 * sigma3) * eqx(x1=r1, x2=r2, x11=rr1, x22=rr2) + gamma^4 * (theta1 * theta2 - theta3) * eqx(x1=beta11, x2=beta22, x11=rr1, x22=rr2)"
   ]
  },
  {
   "cell_type": "markdown",
   "id": "351a7147",
   "metadata": {},
   "source": [
    "To avoid doing many sum-checks, the verifier samples a random challenge $\\rho$ and reduces the task to checking\n",
    "\n",
    "$\\sigma_i + \\rho \\cdot \\theta_i = \\sum_{y \\in \\{0,1\\}^3} \\widetilde{M_i}((r'_1, r'_2), y) \\cdot (\\widetilde{z}'_1(y) + \\rho \\cdot \\widetilde{z}'_2(y))$"
   ]
  },
  {
   "cell_type": "code",
   "execution_count": 39,
   "id": "9402126c",
   "metadata": {},
   "outputs": [
    {
     "data": {
      "text/plain": [
       "35"
      ]
     },
     "execution_count": 39,
     "metadata": {},
     "output_type": "execute_result"
    }
   ],
   "source": [
    "rho = k.random_element()\n",
    "rho"
   ]
  },
  {
   "cell_type": "markdown",
   "id": "2d29e79a",
   "metadata": {},
   "source": [
    "### Accumulating sum-checks into $R'_3 \\in \\mathcal{R}_{LCCCS}$\n",
    "\n",
    "Instead of engaging in a sum-check now, we construct $R'_3 \\in \\mathcal{R}_{LCCCS}$, which serves as an accumulation of all the remaining inner sum-checks:\n",
    "\n",
    "$R'_3 = (s, C'_3, (u'_3, \\times'_3, (r'_1, r'_2), \\{v'_1,v'_2,v'_3\\}))$\n",
    "\n",
    "where\n",
    "- $C'_3 = C'1 + \\rho \\cdot C_2$\n",
    "- $u'_3 = 1 + \\rho \\cdot 1$\n",
    "- $\\times'_3 = \\times'_1 + \\rho \\cdot \\times'2$\n",
    "- $v'_i = \\sigma_i + \\rho \\cdot \\theta_i$\n",
    "\n",
    "Checking the $R'_3$ relation is equivalent to checking\n",
    "\n",
    "$v'_i = \\sum_{y \\in \\{0,1\\}^3} \\widetilde{M_i}((r'_1, r'_2), y) \\cdot (\\widetilde{z}'_1(y) + \\rho \\cdot \\widetilde{z}'_2(y))$\n",
    "\n",
    "for all $i \\in \\{1,2,3\\}$."
   ]
  },
  {
   "cell_type": "code",
   "execution_count": 40,
   "id": "1699d7a6",
   "metadata": {},
   "outputs": [],
   "source": [
    "u3 = 1 + rho\n",
    "public_xx3 = public_xx1 + rho * public_xx2\n",
    "vv1 = sigma1 + rho * theta1\n",
    "vv2 = sigma2 + rho * theta2\n",
    "vv3 = sigma3 + rho * theta3"
   ]
  },
  {
   "cell_type": "markdown",
   "id": "e9059704",
   "metadata": {},
   "source": [
    "## Verifying the folded instance"
   ]
  },
  {
   "cell_type": "markdown",
   "id": "9e4c0c95",
   "metadata": {},
   "source": [
    "<div class=\"alert alert-block alert-info\">\n",
    "Note that until now, the prover and verifier have only been engaging in outer sum-checks, but haven't engaged in any inner sum-check yet; they have been delaying or accumulating them.\n",
    "</div>"
   ]
  },
  {
   "cell_type": "markdown",
   "id": "89420201",
   "metadata": {},
   "source": [
    "We are left with a linearised CCCS relation $R'_3$. Since our goal was only to compute two iterations, we can finally compute the sum-check on this instance. Had we wanted to run more iterations, we would accumulate these sum-checks further."
   ]
  },
  {
   "cell_type": "markdown",
   "id": "3be02b7b",
   "metadata": {},
   "source": [
    "$v'_i = \\sum_{y \\in \\{0,1\\}^3} \\widetilde{M_i}((r'_1, r'_2), y) \\cdot (\\widetilde{z}'_1(y) + \\rho \\cdot \\widetilde{z}'_2(y))$\n",
    "\n",
    "where $v'_i = \\sigma_i + \\rho \\cdot \\theta_i$\n",
    "\n",
    "Note that checking $v'_i$ implies checking both $\\sigma_i$ and $\\theta_i$ with high probability.\n",
    "\n",
    "By batching all $v'_i$ with a random linear combination, checking \n",
    "\n",
    "$\\begin{align}\n",
    "v'_1 + \\alpha v'_2 + \\alpha^2 v'_3 &= \\sum_{y \\in \\{0,1\\}^3} \\widetilde{M_1}((r'_1, r'_2), y) \\cdot (\\widetilde{z}'_1(y) + \\rho \\cdot \\widetilde{z}'_2(y)) \\\\\n",
    "&+ \\alpha \\cdot \\sum_{y \\in \\{0,1\\}^3} \\widetilde{M_2}((r'_1, r'_2), y) \\cdot (\\widetilde{z}'_1(y) + \\rho \\cdot \\widetilde{z}'_2(y)) \\\\\n",
    "&+ \\alpha^2 \\cdot \\sum_{y \\in \\{0,1\\}^3} \\widetilde{M_3}((r'_1, r'_2), y) \\cdot (\\widetilde{z}'_1(y) + \\rho \\cdot \\widetilde{z}'_2(y))\n",
    "\\end{align}$ \n",
    "\n",
    "implies with high probability that \n",
    "\n",
    "$v'_i = \\sum_{y \\in \\{0,1\\}^3} \\widetilde{M_i}((r'_1, r'_2), y) \\cdot (\\widetilde{z}'_1(y) + \\rho \\cdot \\widetilde{z}'_2(y))$\n",
    "\n",
    "which in turn implies that $\\sigma_i$ and $\\theta_i$ for $i \\in \\{1,2,3\\}$ are computed correctly as the prover previously claimed."
   ]
  },
  {
   "cell_type": "markdown",
   "id": "31cfde65",
   "metadata": {},
   "source": [
    "### Batching sum-checks from $R'_3 \\in \\mathcal{R}_{LCCCS}$\n",
    "\n",
    "The verifier samples $\\alpha \\in \\mathbb{F}$ randomly to check\n",
    "\n",
    "$\\begin{align}\n",
    "v' &= \\sum_{y \\in \\{0,1\\}^3} \\widetilde{M_1}((r'_1, r'_2), y) \\cdot (\\widetilde{z}'_1(y) + \\rho \\cdot \\widetilde{z}'_2(y)) \\\\\n",
    "&+ \\alpha \\cdot \\sum_{y \\in \\{0,1\\}^3} \\widetilde{M_2}((r'_1, r'_2), y) \\cdot (\\widetilde{z}'_1(y) + \\rho \\cdot \\widetilde{z}'_2(y)) \\\\\n",
    "&+ \\alpha^2 \\cdot \\sum_{y \\in \\{0,1\\}^3} \\widetilde{M_3}((r'_1, r'_2), y) \\cdot (\\widetilde{z}'_1(y) + \\rho \\cdot \\widetilde{z}'_2(y)) \\\\\n",
    "&= \\sum_{y \\in \\{0,1\\}^3} (\\widetilde{z}'_1(y) + \\rho \\cdot \\widetilde{z}'_2(y)) \\cdot (\\widetilde{M_1}((r'_1, r'_2), y) \\cdot + \\alpha \\cdot \\widetilde{M_2}((r'_1, r'_2), y) + \\alpha^2 \\cdot \\widetilde{M_3}((r'_1, r'_2), y))\n",
    "\\end{align}$"
   ]
  },
  {
   "cell_type": "code",
   "execution_count": 41,
   "id": "31eeaa77",
   "metadata": {},
   "outputs": [
    {
     "data": {
      "text/plain": [
       "88"
      ]
     },
     "execution_count": 41,
     "metadata": {},
     "output_type": "execute_result"
    }
   ],
   "source": [
    "alpha = k.random_element()\n",
    "alpha"
   ]
  },
  {
   "cell_type": "code",
   "execution_count": 42,
   "id": "3fc9c169",
   "metadata": {},
   "outputs": [
    {
     "data": {
      "text/plain": [
       "4"
      ]
     },
     "execution_count": 42,
     "metadata": {},
     "output_type": "execute_result"
    }
   ],
   "source": [
    "vv = sum([\n",
    "        sum([\n",
    "            sum([\n",
    "                Mi_linear(M1)(x11=rr1, x22= rr2, y11=y1,y22=y2,y33=y3) * (z_linear(zz1)(y11=y1,y22=y2,y33=y3) + rho * z_linear(zz2)(y11=y1,y22=y2,y33=y3)) +\n",
    "                alpha * Mi_linear(M2)(x11=rr1, x22= rr2, y11=y1,y22=y2,y33=y3) * (z_linear(zz1)(y11=y1,y22=y2,y33=y3) + rho * z_linear(zz2)(y11=y1,y22=y2,y33=y3)) +\n",
    "                alpha^2 * Mi_linear(M3)(x11=rr1, x22= rr2, y11=y1,y22=y2,y33=y3) * (z_linear(zz1)(y11=y1,y22=y2,y33=y3) + rho * z_linear(zz2)(y11=y1,y22=y2,y33=y3))\n",
    "            for y3 in [0,1]])\n",
    "        for y2 in [0,1]])\n",
    "    for y1 in [0,1]])\n",
    "\n",
    "vv"
   ]
  },
  {
   "cell_type": "markdown",
   "id": "bcc5f348",
   "metadata": {},
   "source": [
    "#### Round 1\n",
    "\n",
    "$\\begin{align}\n",
    "v'_{11} &= \\sum_{y_2 \\in \\{0,1\\}} \\sum_{y_3 \\in \\{0,1\\}} \\widetilde{M_1}((r'_1, r'_2), (Y_1, y_2, y_3)) \\cdot (\\widetilde{z}'_1((Y_1, y_2, y_3)) + \\rho \\cdot \\widetilde{z}'_2((Y_1, y_2, y_3))) \\\\\n",
    "&+ \\alpha \\cdot \\sum_{y_2 \\in \\{0,1\\}} \\sum_{y_3 \\in \\{0,1\\}} \\widetilde{M_2}((r'_1, r'_2), (Y_1, y_2, y_3)) \\cdot (\\widetilde{z}'_1((Y_1, y_2, y_3)) + \\rho \\cdot \\widetilde{z}'_2((Y_1, y_2, y_3))) \\\\\n",
    "&+ \\alpha^2 \\cdot \\sum_{y_2 \\in \\{0,1\\}} \\sum_{y_3 \\in \\{0,1\\}} \\widetilde{M_3}((r'_1, r'_2), (Y_1, y_2, y_3)) \\cdot (\\widetilde{z}'_1((Y_1, y_2, y_3)) + \\rho \\cdot \\widetilde{z}'_2((Y_1, y_2, y_3)))\n",
    "\\end{align}$\n",
    "\n",
    "Prover sends $q_1$ claiming to be equal to $v'_{11}$"
   ]
  },
  {
   "cell_type": "code",
   "execution_count": 43,
   "id": "6bfa0f0f",
   "metadata": {},
   "outputs": [
    {
     "data": {
      "text/plain": [
       "y11^2 + 47*y11 - 22"
      ]
     },
     "execution_count": 43,
     "metadata": {},
     "output_type": "execute_result"
    }
   ],
   "source": [
    "vv11 = sum([\n",
    "        sum([\n",
    "            Mi_linear(M1)(x11=rr1, x22= rr2, y22=y2,y33=y3) * (z_linear(zz1)(y22=y2,y33=y3) + rho * z_linear(zz2)(y22=y2,y33=y3)) +\n",
    "                alpha * Mi_linear(M2)(x11=rr1, x22= rr2, y22=y2,y33=y3) * (z_linear(zz1)(y22=y2,y33=y3) + rho * z_linear(zz2)(y22=y2,y33=y3)) +\n",
    "                alpha^2 * Mi_linear(M3)(x11=rr1, x22= rr2, y22=y2,y33=y3) * (z_linear(zz1)(y22=y2,y33=y3) + rho * z_linear(zz2)(y22=y2,y33=y3))\n",
    "        for y3 in [0,1]])\n",
    "    for y2 in [0,1]])\n",
    "q1 = vv11\n",
    "\n",
    "q1"
   ]
  },
  {
   "cell_type": "markdown",
   "id": "ccaf20c6",
   "metadata": {},
   "source": [
    "Verifier checks that $q_1(0) + q_1(1) = v'$"
   ]
  },
  {
   "cell_type": "code",
   "execution_count": 44,
   "id": "09d1a320",
   "metadata": {},
   "outputs": [
    {
     "data": {
      "text/plain": [
       "True"
      ]
     },
     "execution_count": 44,
     "metadata": {},
     "output_type": "execute_result"
    }
   ],
   "source": [
    "q1(y11=0) + q1(y11=1) == vv"
   ]
  },
  {
   "cell_type": "markdown",
   "id": "356c7ebb",
   "metadata": {},
   "source": [
    "Verifier computes a random element $r''_1$ to check that $q_1$ is actually $v'$"
   ]
  },
  {
   "cell_type": "code",
   "execution_count": 45,
   "id": "d41d78e3",
   "metadata": {},
   "outputs": [
    {
     "data": {
      "text/plain": [
       "35"
      ]
     },
     "execution_count": 45,
     "metadata": {},
     "output_type": "execute_result"
    }
   ],
   "source": [
    "rrr1 = k.random_element()\n",
    "rrr1"
   ]
  },
  {
   "cell_type": "markdown",
   "id": "f29a2050",
   "metadata": {},
   "source": [
    "#### Round 2\n",
    "\n",
    "$\\begin{align}\n",
    "v'_{12} &= \\sum_{y_3 \\in \\{0,1\\}} \\widetilde{M_1}((r'_1, r'_2), (r''_1, Y_2, y_3)) \\cdot (\\widetilde{z}'_1((r''_1, Y_2, y_3)) + \\rho \\cdot \\widetilde{z}'_2((r''_1, Y_2, y_3))) \\\\\n",
    "&+ \\alpha \\cdot \\sum_{y_3 \\in \\{0,1\\}} \\widetilde{M_2}((r'_1, r'_2), (r''_1, Y_2, y_3)) \\cdot (\\widetilde{z}'_1((r''_1, Y_2, y_3)) + \\rho \\cdot \\widetilde{z}'_2((Y_1, Y_2, y_3))) \\\\\n",
    "&+ \\alpha^2 \\cdot \\sum_{y_3 \\in \\{0,1\\}} \\widetilde{M_3}((r'_1, r'_2), (r''_1, Y_2, y_3)) \\cdot (\\widetilde{z}'_1((r''_1, Y_2, y_3)) + \\rho \\cdot \\widetilde{z}'_2((r''_1, Y_2, y_3)))\n",
    "\\end{align}$\n",
    "\n",
    "\n",
    "Prover sends $q_2$ claiming to be equal to $v'_{12}$"
   ]
  },
  {
   "cell_type": "code",
   "execution_count": 46,
   "id": "cec168a2",
   "metadata": {},
   "outputs": [
    {
     "data": {
      "text/plain": [
       "28*y22^2 + 34*y22 - 21"
      ]
     },
     "execution_count": 46,
     "metadata": {},
     "output_type": "execute_result"
    }
   ],
   "source": [
    "vv12 = sum([\n",
    "        Mi_linear(M1)(x11=rr1, x22= rr2, y11=rrr1,y33=y3) * (z_linear(zz1)(y11=rrr1,y33=y3) + rho * z_linear(zz2)(y11=rrr1,y33=y3)) + \n",
    "        alpha * Mi_linear(M2)(x11=rr1, x22= rr2, y11=rrr1,y33=y3) * (z_linear(zz1)(y11=rrr1,y33=y3) + rho * z_linear(zz2)(y11=rrr1,y33=y3)) +\n",
    "        alpha^2 * Mi_linear(M3)(x11=rr1, x22= rr2, y11=rrr1,y33=y3) * (z_linear(zz1)(y11=rrr1,y33=y3) + rho * z_linear(zz2)(y11=rrr1,y33=y3))\n",
    "    for y3 in [0,1]])\n",
    "q2 = vv12\n",
    "\n",
    "q2"
   ]
  },
  {
   "cell_type": "markdown",
   "id": "1eb59e7b",
   "metadata": {},
   "source": [
    "Verifier checks that $q_2(0) + q_2(1) = q_1(r''_1)$"
   ]
  },
  {
   "cell_type": "code",
   "execution_count": 47,
   "id": "580e0b86",
   "metadata": {},
   "outputs": [
    {
     "data": {
      "text/plain": [
       "True"
      ]
     },
     "execution_count": 47,
     "metadata": {},
     "output_type": "execute_result"
    }
   ],
   "source": [
    "# Verifier checks \n",
    "q2(y22=0) + q2(y22=1) == q1(y11=rrr1)"
   ]
  },
  {
   "cell_type": "markdown",
   "id": "013839c3",
   "metadata": {},
   "source": [
    "Verifier computes a random element $r''_2$ to check that $q_2$ is actually $v'_{12}$"
   ]
  },
  {
   "cell_type": "code",
   "execution_count": 48,
   "id": "ef6359ab",
   "metadata": {},
   "outputs": [
    {
     "data": {
      "text/plain": [
       "47"
      ]
     },
     "execution_count": 48,
     "metadata": {},
     "output_type": "execute_result"
    }
   ],
   "source": [
    "rrr2 = k.random_element()\n",
    "rrr2"
   ]
  },
  {
   "cell_type": "markdown",
   "id": "3f4f64ae",
   "metadata": {},
   "source": [
    "#### Round 3\n",
    "$$\n",
    "v'_{13} = \\widetilde{M_1}((r'_1, r'_2), (r''_1, r''_2, y_3)) \\cdot (\\widetilde{z}'_1((r''_1, r''_2, y_3)) + \\rho \\cdot \\widetilde{z}'_2((r''_1, r''_2, y_3)))\n",
    "$$\n",
    "\n",
    "Prover sends $q_3$ claiming to be equal to $v'_{13}$"
   ]
  },
  {
   "cell_type": "code",
   "execution_count": 49,
   "id": "7c5aced2",
   "metadata": {},
   "outputs": [
    {
     "data": {
      "text/plain": [
       "-50*y33^2 + 38*y33 - 44"
      ]
     },
     "execution_count": 49,
     "metadata": {},
     "output_type": "execute_result"
    }
   ],
   "source": [
    "vv13 = Mi_linear(M1)(x11=rr1, x22= rr2, y11=rrr1,y22=rrr2) * (z_linear(zz1)(y11=rrr1,y22=rrr2) + rho * z_linear(zz2)(y11=rrr1,y22=rrr2)) + alpha * Mi_linear(M2)(x11=rr1, x22= rr2, y11=rrr1,y22=rrr2) * (z_linear(zz1)(y11=rrr1,y22=rrr2) + rho * z_linear(zz2)(y11=rrr1,y22=rrr2)) + alpha^2 * Mi_linear(M3)(x11=rr1, x22= rr2, y11=rrr1,y22=rrr2) * (z_linear(zz1)(y11=rrr1,y22=rrr2) + rho * z_linear(zz2)(y11=rrr1,y22=rrr2))\n",
    "q3 = vv13\n",
    "\n",
    "q3"
   ]
  },
  {
   "cell_type": "markdown",
   "id": "0199b0da",
   "metadata": {},
   "source": [
    "Verifier checks that $q_3(0) + q_3(1) = q_2(r''_2)$"
   ]
  },
  {
   "cell_type": "code",
   "execution_count": 50,
   "id": "06eb8a2a",
   "metadata": {},
   "outputs": [
    {
     "data": {
      "text/plain": [
       "True"
      ]
     },
     "execution_count": 50,
     "metadata": {},
     "output_type": "execute_result"
    }
   ],
   "source": [
    "q3(y33=0) + q3(y33=1) == q2(y22=rrr2)"
   ]
  },
  {
   "cell_type": "markdown",
   "id": "8ca73348",
   "metadata": {},
   "source": [
    "Verifier computes a random element $r''_3$ to check that $q_3$ is actually $v'_{13}$"
   ]
  },
  {
   "cell_type": "code",
   "execution_count": 51,
   "id": "92a519c6",
   "metadata": {},
   "outputs": [
    {
     "data": {
      "text/plain": [
       "91"
      ]
     },
     "execution_count": 51,
     "metadata": {},
     "output_type": "execute_result"
    }
   ],
   "source": [
    "rrr3 = k.random_element()\n",
    "rrr3"
   ]
  },
  {
   "cell_type": "markdown",
   "id": "455cea3d",
   "metadata": {},
   "source": [
    "The verifier can compute now on his own\n",
    "\n",
    "$\\begin{aligned}\n",
    "&\\widetilde{M_1}((r'_1, r'_2), (r''_1, r''_2, r''_3)) \\cdot (\\widetilde{z}'_1((r''_1, r''_2, r''_3)) + \\rho \\cdot \\widetilde{z}'_2((r''_1, r''_2, r''_3))) \\\\\n",
    "&+ \\alpha \\cdot \\widetilde{M_2}((r'_1, r'_2), (r''_1, r''_2, r''_3)) \\cdot (\\widetilde{z}'_1((r''_1, r''_2, r''_3)) + \\rho \\cdot \\widetilde{z}'_2((r''_1, r''_2, r''_3))) \\\\\n",
    "&+ \\alpha^2 \\cdot \\widetilde{M_3}((r'_1, r'_2), (r''_1, r''_2, r''_3)) \\cdot (\\widetilde{z}'_1((r''_1, r''_2, r''_3)) + \\rho \\cdot \\widetilde{z}'_2((r''_1, r''_2, r''_3))) \\\\\n",
    "&= (\\widetilde{M_1}((r'_1, r'_2), (r''_1, r''_2, r''_3)) + \\alpha \\cdot \\widetilde{M_2}((r'_1, r'_2), (r''_1, r''_2, r''_3)) \\\\\n",
    "&+ \\alpha^2 \\cdot \\widetilde{M_3}((r'_1, r'_2), (r''_1, r''_2, r''_3))) \\cdot (\\widetilde{z}'_1((r''_1, r''_2, r''_3)) + \\rho \\cdot \\widetilde{z}'_2((r''_1, r''_2, r''_3)))\n",
    "\\end{aligned}$ \n",
    "\n",
    "\n",
    "and check that $q(r''_3)$ is indeed that random linear combination."
   ]
  },
  {
   "cell_type": "code",
   "execution_count": 52,
   "id": "58eabc72",
   "metadata": {},
   "outputs": [
    {
     "data": {
      "text/plain": [
       "True"
      ]
     },
     "execution_count": 52,
     "metadata": {},
     "output_type": "execute_result"
    }
   ],
   "source": [
    "c1 = Mi_linear(M1)(x11=rr1, x22= rr2, y11=rrr1,y22=rrr2, y33=rrr3) * (z_linear(zz1)(y11=rrr1,y22=rrr2, y33=rrr3) + rho * z_linear(zz2)(y11=rrr1,y22=rrr2, y33=rrr3)) + alpha * Mi_linear(M2)(x11=rr1, x22= rr2, y11=rrr1,y22=rrr2, y33=rrr3) * (z_linear(zz1)(y11=rrr1,y22=rrr2, y33=rrr3) + rho * z_linear(zz2)(y11=rrr1,y22=rrr2, y33=rrr3)) + alpha^2 * Mi_linear(M3)(x11=rr1, x22= rr2, y11=rrr1,y22=rrr2, y33=rrr3) * (z_linear(zz1)(y11=rrr1,y22=rrr2, y33=rrr3) + rho * z_linear(zz2)(y11=rrr1,y22=rrr2, y33=rrr3))\n",
    "\n",
    "c1 == q3(y33=rrr3)"
   ]
  },
  {
   "cell_type": "markdown",
   "id": "d28a813e",
   "metadata": {},
   "source": [
    "### The Domino Effect"
   ]
  },
  {
   "cell_type": "markdown",
   "id": "30fe6943",
   "metadata": {},
   "source": [
    "> For reference:\n",
    "> - $\\begin{aligned}\n",
    "    G'((X_1, X_2)) := & \\sum_{y \\in \\{0, 1 \\}^3} \\widetilde{M_1}((X_1, X_2), y) \\cdot \\widetilde{z}'_2(y) \\cdot \\sum_{y \\in \\{0, 1 \\}^{3}} \\widetilde{M_2}((X_1, X_2), y) \\cdot \\widetilde{z}'_2(y) \\\\  - & (\\sum_{y \\in \\{0, 1 \\}^{3}} \\widetilde{M_3}((X_1, X_2), y) \\cdot \\widetilde{z}'_2(y)) = 0\n",
    "    \\end{aligned}$\n",
    "> - $Q'(X_1, X_2) := G'((X_1, X_2)) \\cdot \\widetilde{eq}((\\beta'_1, \\beta'_2), (X_1, X_2))$\n",
    "> - $L_i((X_1, X_2)) = \\widetilde{eq}((r_1, r_2), (X_1, X_2)) \\cdot H_i((X_1, X_2))$\n",
    "> - $H_i((X_1, X_2)) := \\sum_{y\\in \\{0,1\\}^3} \\widetilde{M}_i((X_1, X_2),y) \\cdot \\widetilde{z}'_1(y)$\n",
    "> - $\\sigma_i = H_i((r'_1, r'_2)) = \\sum_{y \\in \\{0, 1 \\}^3} \\widetilde{M_i}((r'_1, r'_2), y) \\cdot \\widetilde{z}'_1(y)$\n",
    "> - $\\theta_i = L_i((r'_1, r'_2)) = \\sum_{y \\in \\{0, 1 \\}^3} \\widetilde{M_i}((r'_1, r'_2), y) \\cdot \\widetilde{z}'_2(y)$\n",
    "> - $g_1((X_1, X_2)) = \\sum_{j \\in \\{1,2,3\\}} \\gamma^j \\cdot L_j((X_1, X_2))$\n",
    "> - $g((X_1, X_2)) = g_1((X_1, X_2)) + \\gamma^4 Q'((X_1, X_2))$"
   ]
  },
  {
   "cell_type": "markdown",
   "id": "71090749",
   "metadata": {},
   "source": [
    "The verifier has now checked that $v'_1, v'_2, v'_3$ from $R'_3$ are the values that the prover claimed by checking their random linear combination. This in turn implies that $\\sigma_1, \\sigma_2, \\sigma_3$ and $\\theta_1, \\theta_2, \\theta_3$ are indeed the values that the prover's claimed. Thus, the verifier is assured about the validity of the sum-checks from $R'_1 \\in \\mathcal{R}_{LCCCS}$ and $R'_2 \\in \\mathcal{R}_{CCCS}$\n",
    "\n",
    "In other words, by checking that \n",
    "\n",
    "$\\sum_{j \\in \\{1,2,3\\}} \\gamma^j \\cdot v_j + \\gamma^4 \\cdot 0 = \\sum_{x_1 \\in \\{0, 1 \\}} \\sum_{x_2 \\in \\{0, 1 \\}} g((x_1, x_2))$, for $g(x) = g_1(x) + \\gamma^4 Q'(x)$,\n",
    "\n",
    "the verifier is thus implicitely verifying all claims of $R'_1 \\in \\mathcal{R}_{LCCCS}$ and $R'_2 \\in \\mathcal{R}_{CCCS}$, which are encoded in $g_1$ and $Q'(x)$, respectively. We can apply recursively this logic, since $R_3 = R'_1$, which checks $R_2 \\in \\mathcal{R}_{CCCS}$ and $R_1 \\in \\mathcal{R}_{LCCCS}$."
   ]
  },
  {
   "cell_type": "markdown",
   "id": "ffa7b725",
   "metadata": {},
   "source": [
    "More precisely, checking \n",
    "\n",
    "$\\begin{align}\n",
    "v' = v'_1 + \\alpha v'_2 + \\alpha^2 v'_3 &= \\sum_{y \\in \\{0,1\\}^3} \\widetilde{M_1}((r'_1, r'_2), y) \\cdot (\\widetilde{z}'_1(y) + \\rho \\cdot \\widetilde{z}'_2(y)) \\\\\n",
    "&+ \\alpha \\cdot \\sum_{y \\in \\{0,1\\}^3} \\widetilde{M_2}((r'_1, r'_2), y) \\cdot (\\widetilde{z}'_1(y) + \\rho \\cdot \\widetilde{z}'_2(y)) \\\\\n",
    "&+ \\alpha^2 \\cdot \\sum_{y \\in \\{0,1\\}^3} \\widetilde{M_3}((r'_1, r'_2), y) \\cdot (\\widetilde{z}'_1(y) + \\rho \\cdot \\widetilde{z}'_2(y))\n",
    "\\end{align}$ \n",
    "\n",
    "implies with high probability that\n",
    "\n",
    "$v'_i = \\sum_{y \\in \\{0,1\\}^3} \\widetilde{M_i}((r'_1, r'_2), y) \\cdot (\\widetilde{z}'_1(y) + \\rho \\cdot \\widetilde{z}'_2(y))$\n",
    "\n",
    "which implies with high probability that\n",
    "\n",
    "- $\\sigma_i = \\sum_{y \\in \\{0, 1 \\}^3} \\widetilde{M_i}((r'_1, r'_2), y) \\cdot \\widetilde{z}'_1(y)$\n",
    "- $\\theta_i = \\sum_{y \\in \\{0, 1 \\}^3} \\widetilde{M_i}((r'_1, r'_2), y) \\cdot \\widetilde{z}'_2(y)$\n",
    "\n",
    "which allows the verifier to verify that\n",
    "\n",
    "$\n",
    "\\begin{align}\n",
    "s'_2(r'_2) = g'_2(r'_2) &= g((r'_1, r'_2)) \\\\\n",
    "&= g_1((r'_1, r'_2)) + \\gamma^4 Q'((r'_1, r'_2)) \\\\\n",
    "&= \\sum_{j \\in \\{1,2,3\\}} \\gamma^j \\cdot L_j((r'_1, r'_2)) + \\gamma^4 G'((r'_1, r'_2)) \\cdot \\widetilde{eq}((\\beta'_1, \\beta'_2), (r'_1, r'_2)) \\\\\n",
    "&= \\sum_{j \\in \\{1,2,3\\}} \\gamma^j \\cdot \\widetilde{eq}((r_1, r_2), (r'_1, r'_2)) \\cdot H_j((r'_1, r'_2)) \\\\ \n",
    "&+ \\gamma^4 \\cdot (\\sum_{y \\in \\{0, 1 \\}^3} \\widetilde{M_1}((r'_1, r'_2), y) \\cdot \\widetilde{z}'_2(y) \\cdot \\sum_{y \\in \\{0, 1 \\}^{3}} \\widetilde{M_2}((r'_1, r'_2), y) \\cdot \\widetilde{z}'_2(y)) - (\\sum_{y \\in \\{0, 1 \\}^{3}} \\widetilde{M_3}((r'_1, r'_2), y) \\cdot \\widetilde{z}'_2(y)))) \\cdot \\widetilde{eq}((\\beta'_1, \\beta'_2), (r'_1, r'_2))) \\\\\n",
    "&= (\\gamma \\cdot \\sigma_1 + \\gamma^2 \\cdot  \\sigma_2 + \\gamma^3 \\cdot \\sigma_3) \\cdot \\widetilde{eq}((r_1, r_2), (r'_1, r'_2)) + \\gamma^4 \\cdot (\\theta_1 * \\theta_2 - \\theta_3) \\cdot \\widetilde{eq}((\\beta'_1, \\beta'_2), (r'_1, r'_2)))\n",
    "\\end{align}\n",
    "$\n",
    "\n",
    "which he previously assumed to be true, from the values $\\sigma_i$ and $\\theta_i$ given by the prover.\n",
    "\n",
    "This implies that\n",
    "\n",
    "$\\sum_{j \\in \\{1,2,3\\}} \\gamma^j \\cdot v_j + \\gamma^4 \\cdot 0 = \\sum_{x_1 \\in \\{0, 1 \\}} \\sum_{x_2 \\in \\{0, 1 \\}}  g((x_1, x_2)) = g_1(x) + \\gamma^4 Q'(x)$\n",
    "\n",
    "which implies with high probability that\n",
    "\n",
    "$\\begin{align}\n",
    "\\sum_{j \\in \\{1,2,3\\}} \\gamma^j \\cdot v_j = \\sum_{x_1 \\in \\{0, 1 \\}} \\sum_{x_2 \\in \\{0, 1 \\}}  g_1((x_1, x_2)) &\\overset{w.h.p}{\\Longrightarrow} v_i = \\sum_{x_1 \\in \\{0, 1 \\}} \\sum_{x_2 \\in \\{0, 1 \\}}  L_i((x_1, x_2)) \\text{ for } i \\in \\{1,2,3\\} \\\\\n",
    "&\\Longrightarrow v_i = H_i((r_1, r_2)) \\text{ for } i \\in \\{1,2,3\\} \\\\\n",
    "&\\Longrightarrow R'_1 \\in \\mathcal{R}_{LCCCS} \\text{ is a valid instance.} \\\\\n",
    "&\\Longrightarrow R_1 \\in \\mathcal{R}_{LCCCS}, R_2 \\in \\mathcal{R}_{CCCS} \\text{ are valid instances. }\n",
    "\\end{align}$ \n",
    "\n",
    "and\n",
    "$\\begin{align}\n",
    "\\sum_{x_1 \\in \\{0,1\\}}\\sum_{x_2 \\in \\{0,1\\}} Q'(x_1, x_2) &\\Longrightarrow \\forall x_1, x_2 \\in \\{0,1\\}. G'((x_1, x_2)) = 0 \\\\\n",
    "&\\Longrightarrow R'_2 \\in \\mathcal{R}_{CCCS} \\text{ is a valid instance.}\n",
    "\\end{align}$ "
   ]
  },
  {
   "cell_type": "markdown",
   "id": "d35331c5",
   "metadata": {},
   "source": [
    "## Summary\n",
    "\n",
    "Great! We have managed to fold two iterations of our Fibonacci example and then verify the folding protocol by sum-checking the final linearised CCCS relation $R'_3$.\n",
    "\n",
    "At each iteration, the incoming relation $R^{(k)}_2 \\in \\mathcal{R}_{CCCS}$ generates random values $r^{(k)} \\in \\mathbb{F}$ that are propagated to the next accumulated relation $R^{(k+1)}_1 \\in \\mathcal{R}_{LCCCS}$. This serves as the glue that makes the domino effect possible.\n",
    "\n",
    "We batched many of the sum-checks into a single sum-check using a random linear combination of the sums, thus avoiding unnecessary computation when needed.\n",
    "\n",
    "There was a lot of work and wit put into SuperSpartan and HyperNova. I hope I made justice to such inspiring work.\n",
    "\n",
    "Thanks for reading!"
   ]
  }
 ],
 "metadata": {
  "kernelspec": {
   "display_name": "SageMath 9.5",
   "language": "sage",
   "name": "sagemath-9.5"
  },
  "language_info": {
   "codemirror_mode": {
    "name": "ipython",
    "version": 3
   },
   "file_extension": ".py",
   "mimetype": "text/x-python",
   "name": "python",
   "nbconvert_exporter": "python",
   "pygments_lexer": "ipython3",
   "version": "3.9.9"
  }
 },
 "nbformat": 4,
 "nbformat_minor": 5
}
