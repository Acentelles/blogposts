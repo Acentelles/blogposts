{
 "cells": [
  {
   "cell_type": "markdown",
   "id": "f7360ca6",
   "metadata": {},
   "source": [
    "# SuperSpartan by Hand\n",
    "\n",
    "The [sum-check protocol](https://dl.acm.org/doi/pdf/10.1145/146585.146605) is like one of those magic tricks that, despite having been exposed to how it works, it still makes your mind do some acrobatics every time you see it applied.\n",
    "\n",
    "Any polynomial equation can be transformed into an instance of the sum-check, making this amazing algorithm surprisingly applicable. \n",
    "\n",
    "Since the sum-check lies at the core of the [HyperNova](https://eprint.iacr.org/2023/573.pdf)'s folding techniques, we will dive first into its details on a simpler case: the checking of a [Customisable Constraint System (CCS)](https://eprint.iacr.org/2023/552.pdf) instance using the SuperSpartan’s polynomial IOP as described in their paper."
   ]
  },
  {
   "cell_type": "markdown",
   "id": "fe5ddc76",
   "metadata": {},
   "source": [
    "## Transforming any check into a sumcheck \n",
    "\n",
    "The goal of the sum-check is to check that an untrusted prover has computed the following equation correctly, where $f \\in K[X_1,...,X_l]$ is a multivariate polynomial (not necessarily multilinear):\n",
    "\n",
    "$\\begin{align*}\n",
    "T &= \\sum_{x \\in \\{0,1\\}^l} f(x) \\\\ \n",
    "&= \\sum_{x_1 \\in \\{0,1\\}} \\sum_{x_2 \\in \\{0,1\\}} ... \\sum_{x_l \\in \\{0,1\\}} f(x_1, x_2, ..., x_l)\n",
    "\\end{align*}$\n",
    "\n",
    "After $l$ rounds, the protocol allows the verifier to check $f(r_1,...,r_l) = c$, for some random $r_i \\in \\mathbb{F}$, which with high probability implies the original equation, due to the [Schwartz-Zippel lemma](https://en.wikipedia.org/wiki/Schwartz%E2%80%93Zippel_lemma).\n",
    "\n",
    "Say we have a polynomial $f$ encoding a vector of evaluations $v = [v_1,..., v_{n}]$ such that for all $x_i$ in some subdomain $H$, $f(x_i) = v_i$. In our setting, a prover wants to convince a verifier that this is the case (i.e. $\\forall x_i \\in H. f(x_i) = v_i$). If every $v_i = 0$, this is known as a zero-check. \n",
    "\n",
    "Note that we can always transform the check $f(x_i) = v_i$ into a zero-check since $f(x_i) - v_i = 0$.\n",
    "\n",
    "For example, in vanilla Plonk, $f$ is a univariate polynomial that encodes an execution trace and $H$ is a subset of the roots of unity of some prime field (e.g. $H := \\{\\omega^1,\\omega^2,\\omega^3,\\omega^4,\\omega^5,\\omega^6,\\omega^7,\\omega^8\\}$).\n",
    "\n",
    "In HyperPlonk (a variant of Plonk that transforms the zero-checks in the protocol into sumchecks), $H$ becomes a boolean hypercube $\\{0,1\\}^l$ (i.e. all the $l$ combinations of zeroes and ones), and $f$ a multivariate polynomial of some degree $d$ such that $\\forall x \\in \\{0,1\\}^l. f(x) = 0$.\n",
    "For example, if $l$ is set to 3, then $H := \\{0,1\\}^3 = \\{(0,0,0), (0,0,1), (0,1,0), (0,1,1), (1,0,0), (1,0,1), (1,1,0), (1,1,1)\\}$.\n",
    "\n",
    "**To apply the sum-check protocol, we need a statement of the form $\\sum_{x\\in \\{0,1\\}^l} f(x) = 0$**.\n",
    "\n",
    "It is clear that if $\\forall x\\in \\{0,1\\}^l. f(x) = 0$ then $\\sum_{x\\in \\{0,1\\}^l} f(x) = 0$, but the converse doesn't necessarily hold. For example, $f((0,0,1)) = -1$, $f((0,1,0)) = 1$ and $f(x) = 0$ otherwise makes $\\sum_{x\\in \\{0,1\\}^l} f(x) = 0$ but $f(x) \\neq 0$ for some $x\\in \\{0,1\\}^l$."
   ]
  },
  {
   "cell_type": "markdown",
   "id": "c3ab2e7c",
   "metadata": {},
   "source": [
    "To overcome this, we define a different multilinear polynomial:\n",
    "\n",
    "$\n",
    "\\begin{align}\n",
    "\\widetilde{eq} : &\\mathbb{F}^l \\times \\mathbb{F}^l \\to \\mathbb{F} \\\\ \n",
    "&(X_1, X_2) \\mapsto 1, \\text{ if } X_1 = X_2, X_1, X_2 \\in \\{0,1\\}^l \\\\ \n",
    "&(X_1, X_2) \\mapsto 0, \\text{ if } X_1 \\neq X_2, X_1, X_2 \\in \\{0,1\\}^l\n",
    "\\end{align}\n",
    "$\n",
    "\n",
    "That is\n",
    "\n",
    "$\\widetilde{eq}(X_1, X_2) := \\prod_{j=1}^l ((1-X_{1_j})(1-X_{2_j}) + X_{1_j} X_{2_j})$. "
   ]
  },
  {
   "cell_type": "markdown",
   "id": "c8d9dcd5",
   "metadata": {},
   "source": [
    "<div class=\"alert alert-block alert-info\">\n",
    "We use a tilde \\~ over a function $g$ to emphasise that $\\widetilde{g}$ is a multilinear polynomial.\n",
    "</div>"
   ]
  },
  {
   "cell_type": "code",
   "execution_count": 1,
   "id": "bf60a5c9",
   "metadata": {},
   "outputs": [],
   "source": [
    "k = GF(101)\n",
    "\n",
    "R = PolynomialRing(k, 10, \"x1, x2, y1, y2, y3, x11, x22, y11, y22, y33\")\n",
    "x1, x2, y1, y2, y3, x11, x22, y11, y22, y33 = R.gens()"
   ]
  },
  {
   "cell_type": "code",
   "execution_count": 2,
   "id": "81d590c2",
   "metadata": {
    "scrolled": true
   },
   "outputs": [
    {
     "data": {
      "text/plain": [
       "0"
      ]
     },
     "execution_count": 2,
     "metadata": {},
     "output_type": "execute_result"
    }
   ],
   "source": [
    "eqx = ((1 - x1)*(1 - x11) + x1*x11) * ((1 - x2)*(1 - x22) + x2*x22)\n",
    "eqy = ((1 - y1)*(1 - y11) + y1*y11) * ((1 - y2)*(1 - y22) + y2*y22) * ((1 - y3)*(1 - y33) + y3*y33)\n",
    "\n",
    "eqx(x1=1, x2=1, x11=1, x22=0)"
   ]
  },
  {
   "cell_type": "markdown",
   "id": "8bc753ec",
   "metadata": {},
   "source": [
    "**The new polynomial $\\widetilde{eq}$ together with the sum-check protocol will allow us to compute the desired zero-check,** $\\forall x \\in H. f (x) = 0$, as follows:\n",
    "\n",
    "We define a new polynomial\n",
    "\n",
    "$\\begin{align}\n",
    "h : &\\mathbb{F}^l \\to \\mathbb{F} \\\\\n",
    "& X \\mapsto \\sum_{x \\in \\{0,1\\}^l} f(x) \\cdot \\widetilde{eq}(x, X)\n",
    "\\end{align}$\n",
    "\n",
    "Note that $X$ is a variable while $x$ is not. $h$ is known as a multilinear extension of $f$ in the boolean hypercube, since $\\forall X\\in \\{0,1\\}^l. h(X) = f(X)$. That is, $f$ is defined over $\\{0,1\\}^l$ while $h$ is defined over $\\mathbb{F}^l$. \n",
    "\n",
    "For example, if $X = (1,0,1)$, then $h((1,0,1)) = \\sum_{x \\in \\{0,1\\}^l} f(x) \\cdot \\widetilde{eq}(x, (1,0,1)) = f((1,0,1))$.\n",
    "\n",
    "Since $\\forall x\\in \\{0,1\\}^l. f(x) = 0$, and $\\forall X\\in \\{0,1\\}^l. h(X)=f(X)$, then $\\forall X\\in \\{0,1\\}^l. h(X) = 0$. \n",
    "\n",
    "**The main difference between $f$ and $h$ is that $f$ is a *multivariate* polynomial of (potentially high) degree $d$, whereas $h$ is a multilinear polynomial.**"
   ]
  },
  {
   "cell_type": "markdown",
   "id": "17bf6dbd",
   "metadata": {},
   "source": [
    "<div class=\"alert alert-block alert-info\">\n",
    "We know that a univariate polynomial $g$ of $k>1$ coefficients in uniquely determined by $k$ evaluations, and it is of degree $k-1$. Similarly, a multilinear polynomial $h$ of $k$ variables is uniquely determined by $2^k$ evaluations. \n",
    "</div>"
   ]
  },
  {
   "cell_type": "markdown",
   "id": "fe000ad7",
   "metadata": {},
   "source": [
    "In this case, $h(Y) := \\sum_{x \\in \\{0,1\\}^l} f(x) \\cdot \\widetilde{eq}(x, Y)$ has $2^l$ coefficients (most of them zero) and so it is uniquely determined by $2^l$ evaluations. Since $\\forall \\{0,1\\}^l. h(Y) = f(Y) = 0$, then $h$ is zero at $2^l$ points and must necessarily be the zero polynomial, $h = 0$.\n",
    "\n",
    "**The verifier has reduced his task to checking that $h$ is indeed the zero polynomial, which is a simpler problem.**\n",
    "\n",
    "By the Schwartz-Zippel lemma, we can verify that $h$ is the zero polynomial with high probability by evaluating $h$ at a random point $r \\in \\mathbb{F}^l$. \n",
    "\n",
    "That is, $h(r) := \\sum_{x \\in \\{0,1\\}^l} f(x) \\cdot \\widetilde{eq}(x, r)$ must be equal to zero. Here is where we apply the sum-check protocol.\n",
    "\n",
    "So **if $h(r) = 0$, this implies with high probability that $h = 0$, which implies that $\\forall Y \\in \\{0,1\\}^l. h(Y) = 0$, which implies that $\\forall x\\in \\{0,1\\}^l. f(x) = 0$, thus proving the original statement with high probability (w.h.p.).** In short,\n",
    "\n",
    "$h(r) = 0 \\overset{w.h.p}{\\Longrightarrow} h = 0 \\Longrightarrow \\forall Y \\in \\{0,1\\}^l . h(Y) = 0 \\Longrightarrow \\forall x\\in \\{0,1\\}^l. f(x) = 0$."
   ]
  },
  {
   "cell_type": "markdown",
   "id": "6ab41048",
   "metadata": {},
   "source": [
    "## Example: Fibonacci\n",
    "\n",
    "The following recurrence relation will help us to illustrate the workings sum-check protocol for CCS relations as is used in [HyperNova](https://eprint.iacr.org/2023/573.pdf). This example reflects the SuperSpartan’s polynomial IOP for CCS protocol described in the [CCS paper](https://eprint.iacr.org/2023/552.pdf).\n",
    "\n",
    "```rust\n",
    "// i-th iteration\n",
    "f(x_2, x_1, y_2, y_1) {\n",
    "    x = x_1 + x_2 // Fibonacci\n",
    "    y = y_1 * y_2 // Multiplicative Fibonacci\n",
    "    t = x * y     // Fibonacci x (Multiplicative Fibonacci)\n",
    "    (x, y, t)\n",
    "}\n",
    "```\n",
    "\n",
    "In the second part of this post, we will prove the result of iterating $n$ times over $f$, starting with some initial values, by applying the folding techniques in HyperNova.\n",
    "\n",
    "For now, we focus on proving a single iteration, in particular, that which results from the initial values $x_2 = 0, x_1 = 1, y_2=2, y_1=3$ that outputs $x = 1, y=6, t=6$. \n",
    "\n",
    "So we first need to arithmetise this statement."
   ]
  },
  {
   "cell_type": "markdown",
   "id": "8a0a7231",
   "metadata": {},
   "source": [
    "### CCS relations\n",
    "\n",
    "[Customisable Constraint System (CCS)](https://eprint.iacr.org/2023/552.pdf) relations are a generalisation of [R1CS](https://learn.0xparc.org/materials/circom/additional-learning-resources/r1cs%20explainer/) relations.\n",
    "\n",
    "In particular, a *relation* $\\mathcal{R}$ in CCS is composed by:\n",
    "\n",
    "- a *structure* $s := ([M_1, ..., M_t], [S_1,...,S_q], [c_1, ..., c_q])$, plus some other bound parameters such as the number of rows $m$ and columns $n$ of the matrices $M_i$. \n",
    "- an *instance*, which consists of public inputs $\\times \\in \\mathbb{F}^l$ and private inputs $\\omega \\in \\mathbb{F}^m$.\n",
    "\n",
    "that satisfies:\n",
    "\n",
    "$\\begin{equation}     \n",
    "\\sum_{i=0}^{q-1} c_i \\cdot \\circ_{j \\in S_i} M_j \\cdot z = \\vec{0}\n",
    "\\end{equation}$\n",
    "\n",
    "where:\n",
    "* $z := (\\omega, x, 1) \\in \\mathbb{F}^n$.\n",
    "* $x \\in \\mathbb{F}^{l}$ are the public inputs.\n",
    "* $\\omega \\in \\mathbb{F}^{m - l - 1}$ are the private inputs.\n",
    "* $M_j \\cdot z$ denotes matrix-vector multiplication,\n",
    "* $\\circ$ denotes the Hadamard product between vectors, and \n",
    "* $\\vec 0$ is an $m$-sized vector with entries equal to the the additive identity $0 \\in \\mathbb{F}$.\n",
    "\n",
    "Expanded, a CCS equation looks like:\n",
    "\n",
    "$\\begin{equation*}     \n",
    "c_0 \\cdot \\overbrace{(M_{j_{0}} \\cdot z \\circ ... \\circ M_{j_{|{S_{0}}|-1}} \\cdot z)}^{j_i \\in S_0} + ... + c_{q-1} \\cdot \\overbrace{(M_{j_{0}} \\cdot z \\circ ... \\circ M_{j_{|{S_{q-1}}|-1}} \\cdot z)}^{j_i \\in S_{q-1}} = \\vec{0} \n",
    "\\end{equation*}$."
   ]
  },
  {
   "cell_type": "markdown",
   "id": "3897ef2f",
   "metadata": {},
   "source": [
    "In our case, $m = 4$ and $n = 8$ are the rows and columns of the $t=3$ matrices $M_1, M_2, M_3$.  $\\{M_1, M_2\\}$ are multiplied and added to $\\{M_3\\}$, so $S_1 = \\{1, 2\\}, S_2 = \\{3\\}$. Since there are two addends $S_1$ and $S_2$, $q =2$. "
   ]
  },
  {
   "cell_type": "markdown",
   "id": "42dd4940",
   "metadata": {},
   "source": [
    "### Fibonacci CCS\n",
    "\n",
    "The Fibonacci combined recurrence relation of our example can easily be represented as a CCS relation: \n",
    "\n",
    "$c_1 \\cdot (M_1 \\cdot z \\circ M_2 \\cdot z) + c_2 \\cdot (M_3 \\cdot z) = \\vec{0}$\n",
    "\n",
    "$\\begin{align}  \n",
    "& \\overbrace{1}^{c_1} \\cdot \\overbrace{\\begin{bmatrix}   \n",
    "1 & 1 & 0 & 0 & 0 & 0 & 0 & 0 \\\\   0 & 0 & 0 & 0 & 1 & 0 & 0 & 0 \\\\ 0 & 0 & 1 & 0 & 0 & 0 & 0 & 0 \\\\ 0 & 0 & 0 & 0 & 0 & 0 & 0 & 0 \\\\  \\end{bmatrix}  }^{M_1} \n",
    "\\overbrace{\\begin{bmatrix} x_2 \\\\ x_1 \\\\ x \\\\ y_2 \\\\ y_1 \\\\ y \\\\ t \\\\ 1 \\end{bmatrix}}^z \\circ\n",
    "\\overbrace{\\begin{bmatrix}   0 & 0 & 0 & 0 & 0 & 0 & 0 & 1 \\\\   0 & 0 & 0 & 1 & 0 & 0 & 0 & 0 \\\\ 0 & 0 & 0 & 0 & 0 & 1 & 0 & 0 \\\\ 0 & 0 & 0 & 0 & 0 & 0 & 0 & 0 \\\\  \\end{bmatrix}}^{M_2}  \n",
    "\\overbrace{\\begin{bmatrix} x_2 \\\\ x_1 \\\\ x \\\\ y_2 \\\\ y_1 \\\\ y \\\\ t \\\\ 1 \\end{bmatrix}}^z \\\\\n",
    "+& \\overbrace{(-1)}^{c_1} \\cdot \\overbrace{\\begin{bmatrix}   0 & 0 & 1 & 0 & 0 & 0 & 0 & 0 \\\\   0 & 0 & 0 & 0 & 0 & 1 & 0 & 0 \\\\ 0 & 0 & 0 & 0 & 0 & 0 & 1 & 0 \\\\ 0 & 0 & 0 & 0 & 0 & 0 & 0 & 0 \\\\  \\end{bmatrix}}^{M_3} \n",
    "\\overbrace{\\begin{bmatrix} x_2 \\\\ x_1 \\\\ x \\\\ y_2 \\\\ y_1 \\\\ y \\\\ t \\\\ 1 \\end{bmatrix}}^z\n",
    "= \\overbrace{\\begin{bmatrix} 0 \\\\ 0 \\\\ 0 \\\\ 0 \\\\ 0 \\\\ 0 \\\\ 0 \\\\ 0 \\end{bmatrix}}^{\\vec{0}}\n",
    "\\end{align}$"
   ]
  },
  {
   "cell_type": "markdown",
   "id": "f8fee8da",
   "metadata": {},
   "source": [
    "<div class=\"alert alert-block alert-info\">\n",
    "We have a particular interest in having our rows and columns of size $2^m$ for some $m$, since the sum-check protocol runs over the boolean hypercube. In this case, $m = 4 = 2^2$ is the number of constraints (i.e. rows) and $n = 8 = 2^3$ is the number of witnesses (i.e. columns) as well as the size of the vector $z$. \n",
    "\n",
    "Note that we have added a dummy row is $[0 ,..., 0]$ for $M_1, M_2, M_3$ (it could be any other vector as long as the CCS relation holds trivially).\n",
    "</div>"
   ]
  },
  {
   "cell_type": "code",
   "execution_count": 3,
   "id": "4d91f686",
   "metadata": {},
   "outputs": [
    {
     "data": {
      "text/plain": [
       "True"
      ]
     },
     "execution_count": 3,
     "metadata": {},
     "output_type": "execute_result"
    }
   ],
   "source": [
    "M1 = Matrix(k, [\n",
    "    [1,1,0,0,0,0,0,0],\n",
    "    [0,0,0,0,1,0,0,0],\n",
    "    [0,0,1,0,0,0,0,0],\n",
    "    [0,0,0,0,0,0,0,0]\n",
    "])\n",
    "\n",
    "M2 = Matrix(k, [\n",
    "    [0,0,0,0,0,0,0,1],\n",
    "    [0,0,0,1,0,0,0,0],\n",
    "    [0,0,0,0,0,1,0,0],\n",
    "    [0,0,0,0,0,0,0,0]\n",
    "])\n",
    "\n",
    "M3 = Matrix(k, [\n",
    "    [0,0,1,0,0,0,0,0],\n",
    "    [0,0,0,0,0,1,0,0],\n",
    "    [0,0,0,0,0,0,1,0],\n",
    "    [0,0,0,0,0,0,0,0]\n",
    "])\n",
    "\n",
    "# First iteration\n",
    "x = [0,1,1,2,3,6,6]\n",
    "w = []\n",
    "z1 = vector(k, x + w + [1])\n",
    "\n",
    "# CCS relation check\n",
    "1 * (M1*z1.column()).elementwise_product(M2*z1.column())-(M3*z1.column()) == vector([0,0,0,0]).column()"
   ]
  },
  {
   "cell_type": "code",
   "execution_count": 4,
   "id": "8c37d2bc",
   "metadata": {},
   "outputs": [
    {
     "data": {
      "text/plain": [
       "(4, 8)"
      ]
     },
     "execution_count": 4,
     "metadata": {},
     "output_type": "execute_result"
    }
   ],
   "source": [
    "m = M1.nrows()\n",
    "n = M1.ncols()\n",
    "\n",
    "(m, n)"
   ]
  },
  {
   "cell_type": "markdown",
   "id": "b56d76bf",
   "metadata": {},
   "source": [
    "### Transforming CCS relation into a sum-check\n",
    "\n",
    "We want to turn this matrix-vector problem statement into a sum over the boolean hypercube. "
   ]
  },
  {
   "cell_type": "markdown",
   "id": "1908ccd5",
   "metadata": {},
   "source": [
    "We begin by creating multilinear extensions $\\widetilde{M_i}$ of $M_i$ and $\\widetilde{z}$ of $z$ such that the multilinear polynomial\n",
    "\n",
    "$\\begin{align}\n",
    "f_i :& \\mathbb{F}^{\\log m} \\to \\mathbb{F} \\\\\n",
    "&X \\mapsto \\sum_{y \\in \\{0, 1 \\}^{\\log n}} \\widetilde{M_i}(X, y) \\cdot \\widetilde{z}(y)\n",
    "\\end{align}$\n",
    "\n",
    "is a multilinear extension of our matrix-vector product $M_i \\cdot z$. \n",
    "\n",
    "Since $m=2^2$ and $n=8 = 2^3$, then $\\log m = 2$, $\\log n = 3$, and \n",
    "\n",
    "$\\begin{align}\n",
    "f_i :& \\mathbb{F}^2 \\to \\mathbb{F} \\\\\n",
    "&(X_1, X_2) \\mapsto \\sum_{y_1 \\in \\{0, 1 \\}}\\sum_{y_2 \\in \\{0, 1 \\}}\\sum_{y_3 \\in \\{0, 1 \\}} \\widetilde{M_i}((X_1, X_2), (y_1, y_2, y_3)) \\cdot \\widetilde{z}(y_1, y_2, y_3)\n",
    "\\end{align}$."
   ]
  },
  {
   "cell_type": "markdown",
   "id": "8d98fa0a",
   "metadata": {},
   "source": [
    "<div class=\"alert alert-block alert-info\">\n",
    "Note that a matrix $M$ can be seen as a function $M : \\{0,1\\}^{\\log m} \\times \\{0,1\\}^{\\log n} \\to \\mathbb{F}$, since for each row $m_i$ and column $n_j$ we can derive the element $M(m_i, n_j)$ from the matrix $M$. \n",
    "    \n",
    "As in the HyperNova paper, we will denote $s := \\log m$ and $s' := \\log n$.\n",
    "</div>"
   ]
  },
  {
   "cell_type": "markdown",
   "id": "954630b6",
   "metadata": {},
   "source": [
    "The multilinear extensions $\\widetilde{M_i}$ of $M_i$ and $\\widetilde{z}$ of $z$ are defined as \n",
    "\n",
    "$\\begin{align*}\n",
    "\\widetilde{M_i}(X, Y) &:= \\sum_{x \\in \\{0, 1 \\}^{s}} \\sum_{y \\in \\{0, 1 \\}^{s'}} M_i(x, y) \\cdot \\widetilde{eq}(x, X) \\cdot \\widetilde{eq}(y, Y)\n",
    "\\end{align*}$\n",
    "\n",
    "$\\widetilde{z}(Y) := \\sum_{y \\in \\{0, 1 \\}^{s'}} z(y) \\cdot \\widetilde{eq}(y, Y)$."
   ]
  },
  {
   "cell_type": "markdown",
   "id": "97741cbf",
   "metadata": {},
   "source": [
    "Setting $s= \\log m = \\log 4 = 2, s'= \\log n = \\log 8 = 3$ as in our example:\n",
    "\n",
    "$$\n",
    "\\begin{align*}\n",
    "\\widetilde{M_i}((X_1, X_2), (Y_1, Y_2, Y_3)) := &\\sum_{x_1 \\in \\{0, 1 \\}}\\sum_{x_2 \\in \\{0, 1 \\}} \\\\\n",
    "& \\sum_{y_1 \\in \\{0, 1 \\}} \\sum_{y_2 \\in \\{0, 1 \\}} \\sum_{y_3 \\in \\{0, 1 \\}} M_i((x_1, x_2), (y_1, y_2, y_3)) \\cdot \\widetilde{eq}((x_1, x_2), (X_1, X_2)) \\cdot \\widetilde{eq}((y_1, y_2, y_3), (Y_1, Y_2, Y_3))\n",
    "\\end{align*}\n",
    "$$\n",
    "\n",
    "$$\n",
    "\\widetilde{z}((Y_1, Y_2, Y_3)) := \\sum_{y_1 \\in \\{0, 1 \\}}\\sum_{y_2 \\in \\{0, 1 \\}}\\sum_{y_3 \\in \\{0, 1 \\}} z((y_1, y_2, y_3)) \\cdot \\widetilde{eq}((y_1, y_2, y_3), (Y_1, Y_2, Y_3))\n",
    "$$"
   ]
  },
  {
   "cell_type": "code",
   "execution_count": 5,
   "id": "ac5e459c",
   "metadata": {},
   "outputs": [
    {
     "data": {
      "text/plain": [
       "1"
      ]
     },
     "execution_count": 5,
     "metadata": {},
     "output_type": "execute_result"
    }
   ],
   "source": [
    "# From-binary-to-decimal polynomials\n",
    "row = x1 + 2*x2\n",
    "col = y1 + 2*y2 + 4*y3\n",
    "\n",
    "def Mi_linear(Mi):\n",
    "    return sum([\n",
    "            sum([\n",
    "                sum([\n",
    "                    sum([\n",
    "                        sum([\n",
    "                            Mi[Integer(row(x1=x1, x2=x2))][Integer(col(y1=y1,y2=y2,y3=y3))] * eqx(x1=x1,x2=x2,x11=x11,x22=x22) * eqy(y1=y1, y11=y11, y2=y2, y22=y22, y3=y3, y33=y33)\n",
    "                        for y3 in [0,1]])\n",
    "                    for y2 in [0,1]])\n",
    "                for y1 in [0,1]])\n",
    "            for x2 in [0,1]])\n",
    "         for x1 in [0,1]])\n",
    "\n",
    "Mi_linear(M1)(x11=0,x22=0,y11=1,y22=0,y33=0)"
   ]
  },
  {
   "cell_type": "code",
   "execution_count": 6,
   "id": "a9a13987",
   "metadata": {},
   "outputs": [
    {
     "data": {
      "text/plain": [
       "1"
      ]
     },
     "execution_count": 6,
     "metadata": {},
     "output_type": "execute_result"
    }
   ],
   "source": [
    "def z_linear(zi):\n",
    "    return sum([\n",
    "                sum([\n",
    "                    sum([\n",
    "                        zi[Integer(col(y1=y1,y2=y2,y3=y3))]* eqy(y1=y1, y11=y11, y2=y2, y22=y22, y3=y3, y33=y33)\n",
    "                    for y3 in [0,1]])\n",
    "                for y2 in [0,1]])\n",
    "            for y1 in [0,1]])\n",
    "\n",
    "z_linear(z1)(y11=1,y22=0,y33=0)"
   ]
  },
  {
   "cell_type": "markdown",
   "id": "32049867",
   "metadata": {},
   "source": [
    "Thus the multilinear extension $f_i$ of our matrix-vector product $M \\cdot z$ is\n",
    "$\n",
    "f_i((X_1, X_2)) = \\sum_{y \\in \\{0, 1 \\}^3} \\widetilde{M_i}((X_1, X_2), y) \\cdot \\widetilde{z}(y)\n",
    "$"
   ]
  },
  {
   "cell_type": "code",
   "execution_count": 7,
   "id": "0297c1e4",
   "metadata": {},
   "outputs": [],
   "source": [
    "def Mi_z_prod(Mi, zi):\n",
    "        return sum([\n",
    "                sum([\n",
    "                    sum([\n",
    "                        Mi_linear(Mi)(y11=y1,y22=y2,y33=y3) * z_linear(zi)(y11=y1,y22=y2,y33=y3)\n",
    "                    for y3 in [0,1]])\n",
    "                for y2 in [0,1]])\n",
    "            for y1 in [0,1]])"
   ]
  },
  {
   "cell_type": "markdown",
   "id": "219b895d",
   "metadata": {},
   "source": [
    "The CCS relation we want to check, \n",
    "\n",
    "$1 \\cdot (M_1 \\cdot z \\circ M_2 \\cdot z) + (-1) \\cdot (M_3 \\cdot z) = \\vec{0}$\n",
    "\n",
    "is thus turned into a polynomial equation\n",
    "\n",
    "$\\begin{align*}\n",
    "G((X_1, X_2)) := & 1 \\cdot (\\sum_{y \\in \\{0, 1 \\}^3} \\widetilde{M_1}((X_1, X_2), y) \\cdot \\widetilde{z}(y) \\cdot \\sum_{y \\in \\{0, 1 \\}^{3}} \\widetilde{M_1}((X_1, X_2), y) \\cdot \\widetilde{z}(y)) \\\\  + & (-1) \\cdot (\\sum_{y \\in \\{0, 1 \\}^{3}} \\widetilde{M_3}((X_1, X_2), y) \\cdot \\widetilde{z}(y)) = 0\n",
    "\\end{align*}$"
   ]
  },
  {
   "cell_type": "code",
   "execution_count": 8,
   "id": "5cab0714",
   "metadata": {},
   "outputs": [
    {
     "data": {
      "text/plain": [
       "21*x11^2*x22^2 - 17*x11^2*x22 - 15*x11*x22^2 + 2*x11^2 + 11*x11*x22 - 2*x11"
      ]
     },
     "execution_count": 8,
     "metadata": {},
     "output_type": "execute_result"
    }
   ],
   "source": [
    "G = Mi_z_prod(M1, z1) * Mi_z_prod(M2, z1) - Mi_z_prod(M3, z1)\n",
    "G"
   ]
  },
  {
   "cell_type": "markdown",
   "id": "ec6c8d5c",
   "metadata": {},
   "source": [
    "The prover wants to prove that $G((x_1, x_2)) = 0$ for all $x_1, x_2 \\in \\{0,1\\}$ using the sum-check. \n",
    "\n",
    "That is $G((0,0))= G((0,1))= G((1,0))= G((1,1))=0$.\n",
    "\n",
    "As expected, we extend the multivariate polynomial $G : \\{0,1\\} \\times \\{0,1\\} \\to \\mathbb{F}$ of degree $2$ into a multilinear polynomial \n",
    "\n",
    "\n",
    "$\\begin{align}\n",
    "h : \\mathbb{F} \\times \\mathbb{F} \\to \\mathbb{F} \\\\\n",
    "((X_1, X_2)) &:= \\sum_{x_1 \\in \\{0,1\\}}\\sum_{x_2 \\in \\{0,1\\}} G((x_1, x_2)) \\cdot \\widetilde{eq}((X_1, X_2), (x_1, x_2)) \\\\\n",
    "&=  G((0, 0)) \\cdot \\widetilde{eq}((X_1, X_2), (0, 0)) \\\\\n",
    "&+ G((0, 1)) \\cdot \\widetilde{eq}((X_1, X_2), (0, 1)) \\\\\n",
    "&+ G((1, 0)) \\cdot \\widetilde{eq}((X_1, X_2), (1, 0)) \\\\\n",
    "&+ G((1,1)) \\cdot \\widetilde{eq}((X_1, X_2), (1, 1)) \\\\\n",
    "&= 0\n",
    "\\end{align}$"
   ]
  },
  {
   "cell_type": "markdown",
   "id": "48085b72",
   "metadata": {},
   "source": [
    "As we did earlier, now $h(X)$ is a multilinear extension that encodes the $4$ evaluations ($\\{(0,0), (0,1), (1,0), (1,1) \\}$) of $G$ into its coefficients, so it is uniquely determined by $4$ evaluations (i.e. a polynomial of $n$ coefficients is of degree $n - 1$, thus uniquely defined by $n$ evaluations). \n",
    "\n",
    "Since $\\forall x_1, x_2 \\in \\{0,1\\}. h((x_1, x_2)) = G((x_1, x_2)) = 0$, then $h$ must necessarily be the zero polynomial $h = 0$."
   ]
  },
  {
   "cell_type": "code",
   "execution_count": 9,
   "id": "defe206b",
   "metadata": {},
   "outputs": [
    {
     "data": {
      "text/plain": [
       "0"
      ]
     },
     "execution_count": 9,
     "metadata": {},
     "output_type": "execute_result"
    }
   ],
   "source": [
    "h = sum([\n",
    "        sum([\n",
    "            G(x11=x11, x22=x22) * eqx(x11=x11, x22=x22)\n",
    "            for x22 in [0,1]])\n",
    "     for x11 in [0,1]])\n",
    "\n",
    "h"
   ]
  },
  {
   "cell_type": "markdown",
   "id": "3ef048dc",
   "metadata": {},
   "source": [
    "<div class=\"alert alert-block alert-info\">\n",
    "Note that there would be no harm in doing such transformation if $G$ were already multilinear.\n",
    "\n",
    "If a polynomial $G \\in \\mathbb{F}[x_1,..., x_s]$ is multilinear, then $G(X) = \\sum_{x\\in \\{0,1\\}^s} G(x) \\cdot \\widetilde{eq}(x, X)$\n",
    "    \n",
    "You can check lemma 6 of HyperNova for a proof.\n",
    "</div>"
   ]
  },
  {
   "cell_type": "markdown",
   "id": "66142d11",
   "metadata": {},
   "source": [
    "By the Schwartz-Zippel lemma, we can evaluate \n",
    "\n",
    "$h((X_1, X_2)) = \\sum_{x_1 \\in \\{0,1\\}}\\sum_{x_2 \\in \\{0,1\\}}  G((x_1, x_2)) \\cdot \\widetilde{eq}((X_1, X_2), (x_1, x_2)) = 0$ \n",
    "\n",
    "at a random point $\\beta := (\\beta_1, \\beta_2) \\in \\mathbb{F}^2$ to prove that $h$ is indeed the zero polynomial. \n",
    "\n",
    "That is, if\n",
    "\n",
    "$\\begin{align}\n",
    "h((\\beta_1, \\beta_2)) &= \\sum_{x_1 \\in \\{0,1\\}}\\sum_{x_2 \\in \\{0,1\\}}  G((x_1, x_2)) \\cdot \\widetilde{eq}((\\beta_1, \\beta_1), (x_1, x_2)) \\\\\n",
    "&= G((0, 0)) \\cdot \\widetilde{eq}((\\beta_1, \\beta_2), (0, 0)) \\\\\n",
    "&+ G((0, 1)) \\cdot \\widetilde{eq}((\\beta_1, \\beta_2), (0, 1)) \\\\\n",
    "&+ G((1, 0)) \\cdot \\widetilde{eq}((\\beta_1, \\beta_2), (1, 0)) \\\\\n",
    "&+ G((1,1)) \\cdot \\widetilde{eq}((\\beta_1, \\beta_2), (1, 1)) \\\\\n",
    "&= 0\n",
    "\\end{align}$\n",
    "\n",
    "then $h(X_1, X_2) = 0$ with high probability."
   ]
  },
  {
   "cell_type": "code",
   "execution_count": 10,
   "id": "027b679f",
   "metadata": {},
   "outputs": [
    {
     "data": {
      "text/plain": [
       "(9, 61)"
      ]
     },
     "execution_count": 10,
     "metadata": {},
     "output_type": "execute_result"
    }
   ],
   "source": [
    "beta1 = k.random_element()\n",
    "beta2 = k.random_element()\n",
    "\n",
    "(beta1, beta2)"
   ]
  },
  {
   "cell_type": "markdown",
   "id": "002ab6fc",
   "metadata": {},
   "source": [
    "<div class=\"alert alert-block alert-info\">\n",
    "Note that $\\widetilde{eq}((\\beta_1, \\beta_2), (x_1, x_2)) = ((1-\\beta_1)(1-x_1) + \\beta_1 x_1) \\cdot ((1-\\beta_2)(1-x_2) + \\beta_2 x_2)$ may not be zero if $\\beta_1, \\beta_2 \\notin \\{0,1\\}$.\n",
    "</div>"
   ]
  },
  {
   "cell_type": "markdown",
   "id": "be057974",
   "metadata": {},
   "source": [
    "Let $Q(X_1, X_2) := G((X_1, X_2)) \\cdot \\widetilde{eq}((\\beta_1, \\beta_2), (X_1, X_2))$. "
   ]
  },
  {
   "cell_type": "code",
   "execution_count": 11,
   "id": "65c8efc9",
   "metadata": {
    "scrolled": false
   },
   "outputs": [
    {
     "data": {
      "text/plain": [
       "-31*x11^3*x22^3 - 31*x11^3*x22^2 + 24*x11^2*x22^3 + 42*x11^3*x22 + 25*x11^2*x22^2 - 24*x11*x22^3 - 20*x11^3 + 22*x11^2*x22 + 29*x11*x22^2 - 30*x11^2 + 45*x11*x22 + 50*x11"
      ]
     },
     "execution_count": 11,
     "metadata": {},
     "output_type": "execute_result"
    }
   ],
   "source": [
    "Q = G * eqx(x1=beta1,x2=beta2)\n",
    "Q"
   ]
  },
  {
   "cell_type": "markdown",
   "id": "d8985bf7",
   "metadata": {},
   "source": [
    "<div class=\"alert alert-block alert-info\">\n",
    "To help us refer to the different sum-checks conceptually, we give them different names:\n",
    "<ul>\n",
    "    <li><b>Outer sum-check</b>: $0 = G(x)$ for all $x \\in \\{0,1\\}^2$. </li>\n",
    "    <li><b>Inner sum-check</b>: $T_j = \\sum_{y\\in \\{0,1\\}^{3}} \\widetilde{M}_j(r,y) \\cdot \\widetilde{z}(y)$</li>\n",
    "</ul>\n",
    "</div>"
   ]
  },
  {
   "cell_type": "markdown",
   "id": "38b6e71e",
   "metadata": {},
   "source": [
    "### Outer sum-check"
   ]
  },
  {
   "cell_type": "markdown",
   "id": "52da968d",
   "metadata": {},
   "source": [
    "The prover engages with the verifier in the following sum-check:\n",
    "\n",
    "$\\sum_{x_1 \\in \\{0,1\\}}\\sum_{x_2 \\in \\{0,1\\}} Q(x_1, x_2) = 0$\n",
    "\n",
    "which implies that $G((x_1, x_2)) = 0$ for all $x_1, x_2 \\in \\{0,1\\}$."
   ]
  },
  {
   "cell_type": "code",
   "execution_count": 12,
   "id": "e7b8efff",
   "metadata": {},
   "outputs": [
    {
     "data": {
      "text/plain": [
       "True"
      ]
     },
     "execution_count": 12,
     "metadata": {},
     "output_type": "execute_result"
    }
   ],
   "source": [
    "sum([ \n",
    "    sum([ Q(x11=x1, x22=x2) for x2 in [0,1]])\n",
    "for x1 in [0,1]]) == 0"
   ]
  },
  {
   "cell_type": "markdown",
   "id": "89eb817d",
   "metadata": {},
   "source": [
    "#### Round 1\n",
    "\n",
    "The prover $P$ sends the verifier $V$ a univariate polynomial $s_1(X_1)$ claiming to be equal to $Q_1(X_1) := \\sum_{x_2 \\in \\{0,1\\}} Q(X_1, x_2)$. That is, we keep the first variable unbound while summing up the values over the boolean hypercube. "
   ]
  },
  {
   "cell_type": "code",
   "execution_count": 13,
   "id": "d0c08db0",
   "metadata": {},
   "outputs": [
    {
     "data": {
      "text/plain": [
       "41*x11^3 + 11*x11^2 + 49*x11"
      ]
     },
     "execution_count": 13,
     "metadata": {},
     "output_type": "execute_result"
    }
   ],
   "source": [
    "Q1 = sum([ Q(x22=x2) for x2 in [0,1]])\n",
    "s1 = Q1\n",
    "\n",
    "s1"
   ]
  },
  {
   "cell_type": "markdown",
   "id": "e1ca5e42",
   "metadata": {},
   "source": [
    "The verifier first checks that $s_1(0) + s_1(1)$ matches the expected result, i.e. $s_1(0) + s_1(1) = 0$."
   ]
  },
  {
   "cell_type": "code",
   "execution_count": 14,
   "id": "830bd27d",
   "metadata": {},
   "outputs": [
    {
     "data": {
      "text/plain": [
       "True"
      ]
     },
     "execution_count": 14,
     "metadata": {},
     "output_type": "execute_result"
    }
   ],
   "source": [
    "s1(x11=0) + s1(x11=1) == 0"
   ]
  },
  {
   "cell_type": "markdown",
   "id": "60ed61be",
   "metadata": {},
   "source": [
    "Then the verifier checks $s_1 = Q_1$ by checking that $Q_1$ and $s_1$ agree at a random point $r_1$ (Schwartz-Zippel lemma)."
   ]
  },
  {
   "cell_type": "code",
   "execution_count": 15,
   "id": "5beb1beb",
   "metadata": {},
   "outputs": [
    {
     "data": {
      "text/plain": [
       "48"
      ]
     },
     "execution_count": 15,
     "metadata": {},
     "output_type": "execute_result"
    }
   ],
   "source": [
    "r1 = k.random_element()\n",
    "r1"
   ]
  },
  {
   "cell_type": "markdown",
   "id": "6f5c3587",
   "metadata": {},
   "source": [
    "The verifier can compute directly $s_1(r_1)$ but doesn't know what $Q_1$ is, so the check $s_1 = Q_1$ must be done recursively."
   ]
  },
  {
   "cell_type": "markdown",
   "id": "0529b632",
   "metadata": {},
   "source": [
    "#### Round 2\n",
    "\n",
    "The new claim is that $s_1(r_1) := \\sum_{x_2 \\in \\{0,1\\}} Q(r_1, x_2)$, so $P$ sends $V$ a univariate $s_2(X_2)$ which he claims to be equal to  $Q_2(X_2) := Q(r_1, X_2)$."
   ]
  },
  {
   "cell_type": "code",
   "execution_count": 16,
   "id": "edef332f",
   "metadata": {},
   "outputs": [
    {
     "data": {
      "text/plain": [
       "0"
      ]
     },
     "execution_count": 16,
     "metadata": {},
     "output_type": "execute_result"
    }
   ],
   "source": [
    "Q2 = Q(x11=r1)\n",
    "s2 = Q2\n",
    "\n",
    "s2"
   ]
  },
  {
   "cell_type": "markdown",
   "id": "16e0a6b7",
   "metadata": {},
   "source": [
    "The verifier first checks that $s_1(r_1)$ is indeed $s_2(0) + s_2(1)$"
   ]
  },
  {
   "cell_type": "code",
   "execution_count": 17,
   "id": "feb18900",
   "metadata": {},
   "outputs": [
    {
     "data": {
      "text/plain": [
       "True"
      ]
     },
     "execution_count": 17,
     "metadata": {},
     "output_type": "execute_result"
    }
   ],
   "source": [
    "s2(x22=0) + s2(x22=1) == s1(x11=r1)"
   ]
  },
  {
   "cell_type": "markdown",
   "id": "287b0bf2",
   "metadata": {},
   "source": [
    "Then the verifier sends a random challenge $r_2$ to check that $s_2(r_2) = Q_2(r_2)$."
   ]
  },
  {
   "cell_type": "code",
   "execution_count": 18,
   "id": "55145a98",
   "metadata": {},
   "outputs": [
    {
     "data": {
      "text/plain": [
       "23"
      ]
     },
     "execution_count": 18,
     "metadata": {},
     "output_type": "execute_result"
    }
   ],
   "source": [
    "r2 = k.random_element()\n",
    "r2"
   ]
  },
  {
   "cell_type": "markdown",
   "id": "398ceb85",
   "metadata": {},
   "source": [
    "There is no more need for recursion, since the verifier can now evaluate \n",
    "\n",
    "$\\begin{align}\n",
    "Q_2(r_2) = Q((r_1, r_2)) =& \\widetilde{eq}((\\beta_1, \\beta_2), (r_1, r_2)) \\cdot G((r_1, r_2)) \\\\\n",
    "=& \\widetilde{eq}((\\beta_1, \\beta_2), (r_1, r_2)) \\cdot ((\\sum_{y \\in \\{0, 1 \\}^3} \\widetilde{M_1}((r_1, r_2), y) \\cdot \\widetilde{z}(y) \\cdot \\sum_{y \\in \\{0, 1 \\}^{3}} \\widetilde{M_1}((r_1, r_2), y) \\cdot \\widetilde{z}(y)) \\\\  - & \\sum_{y \\in \\{0, 1 \\}^{3}} \\widetilde{M_3}((r_1, r_2), y) \\cdot \\widetilde{z}(y))\n",
    "\\end{align}$\n",
    "\n",
    "However, the verifier doesn't want to compute the inner sums\n",
    "\n",
    "$\\sum_{y \\in \\{0, 1 \\}^3} \\widetilde{M_i}((r_1, r_2), y) \\cdot \\widetilde{z}(y)$\n",
    "\n",
    "for $i \\in \\{1,2,3\\}$ by himself, so he engages in further sum-checks with the prover."
   ]
  },
  {
   "cell_type": "markdown",
   "id": "6adddc4b",
   "metadata": {},
   "source": [
    "### Batching inner sum-checks\n",
    "\n",
    "The prover is asked to compute the inner sum-checks\n",
    "\n",
    "$\\begin{align}\n",
    "T_i &= \\sum_{y \\in \\{0, 1 \\}^3} \\widetilde{M_i}((r_1, r_2), y) \\cdot \\widetilde{z}(y) \\\\\n",
    "&= \\sum_{y_1 \\in \\{0, 1 \\}} \\sum_{y_2 \\in \\{0, 1 \\}} \\sum_{y_3 \\in \\{0, 1 \\}} \\widetilde{M_i}((r_1, r_2), (y_1, y_2, y_3)) \\cdot \\widetilde{z}((y_1, y_2, y_3)) \\\\\n",
    "\\end{align}$\n",
    "\n",
    "and to send $T_i$ to the verifier for $i \\in \\{1,2,3\\}$ to sum-check it."
   ]
  },
  {
   "cell_type": "code",
   "execution_count": 19,
   "id": "12b87212",
   "metadata": {},
   "outputs": [
    {
     "data": {
      "text/plain": [
       "(17, 11, 29)"
      ]
     },
     "execution_count": 19,
     "metadata": {},
     "output_type": "execute_result"
    }
   ],
   "source": [
    "def Ti_generator(Mi, zi):\n",
    "    return sum([\n",
    "        sum([\n",
    "            sum([\n",
    "                Mi_linear(Mi)(x11=r1, x22= r2, y11=y1,y22=y2,y33=y3) * z_linear(zi)(y11=y1,y22=y2,y33=y3)\n",
    "            for y3 in [0,1]])\n",
    "        for y2 in [0,1]])\n",
    "    for y1 in [0,1]])\n",
    "\n",
    "T1 = Ti_generator(M1, z1)\n",
    "T2 = Ti_generator(M2, z1)\n",
    "T3 = Ti_generator(M3, z1)\n",
    "T1, T2, T3"
   ]
  },
  {
   "cell_type": "markdown",
   "id": "f5594507",
   "metadata": {},
   "source": [
    "However, instead of engaging in separate sum-checks $T_i = \\sum_{y \\in \\{0, 1 \\}^3} \\widetilde{M_i}((r_1, r_2), y) \\cdot \\widetilde{z}(y)$ for each $i \\in \\{1,2,3\\}$, the prover will batch them using a random element $\\alpha$ generated by the verifier.\n",
    "\n",
    "$\\begin{align}\n",
    "T_1 + \\alpha \\cdot T_2 + \\alpha^2 \\cdot T_3 =& \\sum_{y \\in \\{0, 1 \\}^3} \\widetilde{M_1}((r_1, r_2), y) \\cdot \\widetilde{z}(y) \\\\ \n",
    "+& \\alpha \\cdot \\sum_{y \\in \\{0, 1 \\}^3} \\widetilde{M_2}((r_1, r_2), y) \\cdot \\widetilde{z}(y) \\\\\n",
    "+& \\alpha^2 \\cdot \\sum_{y \\in \\{0, 1 \\}^3} \\widetilde{M_3}((r_1, r_2), y) \\cdot \\widetilde{z}(y)\n",
    "\\end{align}$\n",
    "\n",
    "Which proves with high probability that all $T_1, T_2, T_3$ are correctly computed from $\\sum_{y \\in \\{0, 1 \\}^3} \\widetilde{M_i}((r_1, r_2), y) \\cdot \\widetilde{z}(y)$."
   ]
  },
  {
   "cell_type": "code",
   "execution_count": 20,
   "id": "157c4cde",
   "metadata": {},
   "outputs": [
    {
     "data": {
      "text/plain": [
       "57"
      ]
     },
     "execution_count": 20,
     "metadata": {},
     "output_type": "execute_result"
    }
   ],
   "source": [
    "alpha = k.random_element()\n",
    "alpha"
   ]
  },
  {
   "cell_type": "code",
   "execution_count": 21,
   "id": "d61a12ba",
   "metadata": {},
   "outputs": [
    {
     "data": {
      "text/plain": [
       "26"
      ]
     },
     "execution_count": 21,
     "metadata": {},
     "output_type": "execute_result"
    }
   ],
   "source": [
    "T = T1 + alpha * T2 + alpha^2 * T3\n",
    "T"
   ]
  },
  {
   "cell_type": "markdown",
   "id": "665386ed",
   "metadata": {},
   "source": [
    "#### Round 1"
   ]
  },
  {
   "cell_type": "markdown",
   "id": "35f3a1cc",
   "metadata": {},
   "source": [
    "The prover $P$ sends the verifier $V$ a univariate polynomial $q_1(Y_1)$ to be equal to \n",
    "\n",
    "$\\begin{align}\n",
    "f_1(Y_1) &:= \\sum_{y_2 \\in \\{0,1\\}}\\sum_{y_3 \\in \\{0,1\\}} \\widetilde{M_1}((r_1, r_2), (Y_1, y_2, y_3)) \\cdot \\widetilde{z}((Y_1, y_2, y_3)) \\\\\n",
    "&+ \\alpha \\cdot \\sum_{y_2 \\in \\{0,1\\}}\\sum_{y_3 \\in \\{0,1\\}} \\widetilde{M_2}((r_1, r_2), (Y_1, y_2, y_3)) \\cdot \\widetilde{z}((Y_1, y_2, y_3)) \\\\\n",
    "&+ \\alpha^2 \\cdot \\sum_{y_2 \\in \\{0,1\\}}\\sum_{y_3 \\in \\{0,1\\}} \\widetilde{M_3}((r_1, r_2), (Y_1, y_2, y_3)) \\cdot \\widetilde{z}((Y_1, y_2, y_3)) \\\\\n",
    "\\end{align}$ \n",
    "\n",
    "That is, we keep the first variable unbound while summing up the values over the boolean hypercube."
   ]
  },
  {
   "cell_type": "code",
   "execution_count": 22,
   "id": "b551fc08",
   "metadata": {},
   "outputs": [
    {
     "data": {
      "text/plain": [
       "16*y11^2 - 44*y11 + 27"
      ]
     },
     "execution_count": 22,
     "metadata": {},
     "output_type": "execute_result"
    }
   ],
   "source": [
    "f1 = sum([\n",
    "        sum([\n",
    "            Mi_linear(M1)(x11=r1, x22= r2, y22=y2,y33=y3) * z_linear(z1)(y22=y2,y33=y3) + \n",
    "            alpha * Mi_linear(M2)(x11=r1, x22= r2, y22=y2,y33=y3) * z_linear(z1)(y22=y2,y33=y3) +\n",
    "            alpha^2 * Mi_linear(M3)(x11=r1, x22= r2, y22=y2,y33=y3) * z_linear(z1)(y22=y2,y33=y3)\n",
    "        for y3 in [0,1]])\n",
    "    for y2 in [0,1]])\n",
    "q1 = f1\n",
    "\n",
    "q1"
   ]
  },
  {
   "cell_type": "markdown",
   "id": "35ee626a",
   "metadata": {},
   "source": [
    "The verifier first checks that $q_1(0) + q_1(1)$ matches the expected result, i.e. $q_1(0) + q_1(1) = T$."
   ]
  },
  {
   "cell_type": "code",
   "execution_count": 23,
   "id": "8c736d08",
   "metadata": {},
   "outputs": [
    {
     "data": {
      "text/plain": [
       "True"
      ]
     },
     "execution_count": 23,
     "metadata": {},
     "output_type": "execute_result"
    }
   ],
   "source": [
    "q1(y11=0) + q1(y11=1) == T"
   ]
  },
  {
   "cell_type": "markdown",
   "id": "65347fb8",
   "metadata": {},
   "source": [
    "Then the verifier checks $q_1 = f_1$ by checking that $f_1$ and $q_1$ agree at a random point $r'_1$ (Schwartz-Zippel lemma)."
   ]
  },
  {
   "cell_type": "code",
   "execution_count": 24,
   "id": "7fc347cc",
   "metadata": {},
   "outputs": [
    {
     "data": {
      "text/plain": [
       "25"
      ]
     },
     "execution_count": 24,
     "metadata": {},
     "output_type": "execute_result"
    }
   ],
   "source": [
    "r11 = k.random_element()\n",
    "r11"
   ]
  },
  {
   "cell_type": "markdown",
   "id": "0adbf248",
   "metadata": {},
   "source": [
    "The verifier can compute directly $q_1(r'_1)$ but doesn't know what $f_1$ is, so the check $q_1 = f_1$ must be done recursively."
   ]
  },
  {
   "cell_type": "markdown",
   "id": "ae19d73c",
   "metadata": {},
   "source": [
    "#### Round 2\n",
    "\n",
    "The new claim is that \n",
    "\n",
    "$\\begin{align}\n",
    "q_1(r'_1) &= \\sum_{y_2 \\in \\{0,1\\}}\\sum_{y_3 \\in \\{0,1\\}} \\widetilde{M_1}((r_1, r_2), (r'_1, y_2, y_3)) \\cdot \\widetilde{z}((r'_1, y_2, y_3)) \\\\\n",
    "&+ \\alpha \\cdot \\sum_{y_2 \\in \\{0,1\\}}\\sum_{y_3 \\in \\{0,1\\}} \\widetilde{M_2}((r_1, r_2), (r'_1, y_2, y_3)) \\cdot \\widetilde{z}((r'_1, y_2, y_3)) \\\\\n",
    "&+ \\alpha^2 \\cdot \\sum_{y_2 \\in \\{0,1\\}}\\sum_{y_3 \\in \\{0,1\\}} \\widetilde{M_3}((r_1, r_2), (r'_1, y_2, y_3)) \\cdot \\widetilde{z}((r'_1, y_2, y_3)) \\\\\n",
    "\\end{align}$ \n",
    "\n",
    "so $P$ sends $V$ a univariate $q_2(Y_2)$ claimed to be equal to  \n",
    "\n",
    "$\\begin{align}\n",
    "f_2(Y_2) &:= \\sum_{y_3 \\in \\{0,1\\}} \\widetilde{M_1}((r_1, r_2), (r'_1, Y_2, y_3)) \\cdot \\widetilde{z}((r'_1, Y_2, y_3)) \\\\\n",
    "&+ \\alpha \\cdot \\sum_{y_3 \\in \\{0,1\\}} \\widetilde{M_2}((r_1, r_2), (r'_1, Y_2, y_3)) \\cdot \\widetilde{z}((r'_1, Y_2, y_3)) \\\\\n",
    "&+ \\alpha^2 \\cdot \\sum_{y_3 \\in \\{0,1\\}} \\widetilde{M_3}((r_1, r_2), (r'_1, Y_2, y_3)) \\cdot \\widetilde{z}((r'_1, Y_2, y_3)) \\\\\n",
    "\\end{align}$ "
   ]
  },
  {
   "cell_type": "code",
   "execution_count": 25,
   "id": "53317b29",
   "metadata": {},
   "outputs": [
    {
     "data": {
      "text/plain": [
       "-37*y22^2 + 2*y22 + 37"
      ]
     },
     "execution_count": 25,
     "metadata": {},
     "output_type": "execute_result"
    }
   ],
   "source": [
    "f2 = sum([\n",
    "        Mi_linear(M1)(x11=r1, x22= r2, y11=r11, y33=y3) * z_linear(z1)(y11=r11,y33=y3) + \n",
    "        alpha * Mi_linear(M2)(x11=r1, x22= r2, y11=r11,y33=y3) * z_linear(z1)(y11=r11,y33=y3) +\n",
    "        alpha^2 * Mi_linear(M3)(x11=r1, x22= r2, y11=r11,y33=y3) * z_linear(z1)(y11=r11,y33=y3)\n",
    "    for y3 in [0,1]])\n",
    "q2 = f2\n",
    "\n",
    "q2"
   ]
  },
  {
   "cell_type": "markdown",
   "id": "d6ae1a54",
   "metadata": {},
   "source": [
    "The verifier first checks that $q_1(r'_1)$ is indeed $q_2(0) + q_2(1)$ "
   ]
  },
  {
   "cell_type": "code",
   "execution_count": 26,
   "id": "3ce9a9a8",
   "metadata": {},
   "outputs": [
    {
     "data": {
      "text/plain": [
       "True"
      ]
     },
     "execution_count": 26,
     "metadata": {},
     "output_type": "execute_result"
    }
   ],
   "source": [
    "q2(y22=0) + q2(y22=1) == q1(y11=r11)"
   ]
  },
  {
   "cell_type": "markdown",
   "id": "ed83f670",
   "metadata": {},
   "source": [
    "Then sends a random challenge $r'_2$ to check that $q_2(r'_2) = f_2(r'_2)$."
   ]
  },
  {
   "cell_type": "code",
   "execution_count": 27,
   "id": "1fa4ee35",
   "metadata": {},
   "outputs": [
    {
     "data": {
      "text/plain": [
       "50"
      ]
     },
     "execution_count": 27,
     "metadata": {},
     "output_type": "execute_result"
    }
   ],
   "source": [
    "r22 = k.random_element()\n",
    "r22"
   ]
  },
  {
   "cell_type": "markdown",
   "id": "15543dd1",
   "metadata": {},
   "source": [
    "#### Round 3\n",
    "\n",
    "Finally, the prover claims that \n",
    "\n",
    "$\\begin{align}\n",
    "q_2(r'_2) &= \\sum_{y_3 \\in \\{0,1\\}} \\widetilde{M_1}((r_1, r_2), (r'_1, r'_2, y_3)) \\cdot \\widetilde{z}((r'_1, r'_2, y_3)) \\\\\n",
    "&+ \\alpha \\cdot \\sum_{y_3 \\in \\{0,1\\}} \\widetilde{M_2}((r_1, r_2), (r'_1, r'_2, y_3)) \\cdot \\widetilde{z}((r'_1, r'_2, y_3)) \\\\\n",
    "&+ \\alpha^2 \\cdot \\sum_{y_3 \\in \\{0,1\\}} \\widetilde{M_3}((r_1, r_2), (r'_1, r'_2, y_3)) \\cdot \\widetilde{z}((r'_1, r'_2, y_3)) \\\\\n",
    "\\end{align}$ \n",
    "\n",
    "so $P$ sends $V$ a univariate $q_3(Y_2)$ claimed to be equal to  \n",
    "\n",
    "$\\begin{align}\n",
    "f_3(Y_3) &:= \\widetilde{M_1}((r_1, r_2), (r'_1, r'_2, Y_3)) \\cdot \\widetilde{z}((r'_1, r'_2, Y_3)) \\\\\n",
    "&+ \\alpha \\cdot \\widetilde{M_2}((r_1, r_2), (r'_1, r'_2, Y_3)) \\cdot \\widetilde{z}((r'_1, r'_2, Y_3)) \\\\\n",
    "&+ \\alpha^2 \\cdot \\widetilde{M_3}((r_1, r_2), (r'_1, r'_2, Y_3)) \\cdot \\widetilde{z}((r'_1, r'_2, Y_3)) \\\\\n",
    "\\end{align}$ "
   ]
  },
  {
   "cell_type": "code",
   "execution_count": 28,
   "id": "2b1c2ec7",
   "metadata": {},
   "outputs": [
    {
     "data": {
      "text/plain": [
       "17*y33^2 + 20*y33 - 43"
      ]
     },
     "execution_count": 28,
     "metadata": {},
     "output_type": "execute_result"
    }
   ],
   "source": [
    "f3 = Mi_linear(M1)(x11=r1, x22= r2, y11=r11, y22=r22) * z_linear(z1)(y11=r11,y22=r22) + alpha * Mi_linear(M2)(x11=r1, x22= r2, y11=r11,y22=r22) * z_linear(z1)(y11=r11,y22=r22) + alpha^2 * Mi_linear(M3)(x11=r1, x22= r2, y11=r11,y22=r22) * z_linear(z1)(y11=r11,y22=r22)\n",
    "\n",
    "q3 = f3\n",
    "\n",
    "q3"
   ]
  },
  {
   "cell_type": "markdown",
   "id": "d8030f25",
   "metadata": {},
   "source": [
    "The verifier first checks that $q_2(r'_2)$ is indeed $q_3(0) + q_3(1)$"
   ]
  },
  {
   "cell_type": "code",
   "execution_count": 29,
   "id": "63e59286",
   "metadata": {},
   "outputs": [
    {
     "data": {
      "text/plain": [
       "True"
      ]
     },
     "execution_count": 29,
     "metadata": {},
     "output_type": "execute_result"
    }
   ],
   "source": [
    "q3(y33=0) + q3(y33=1) == q2(y22=r22)"
   ]
  },
  {
   "cell_type": "markdown",
   "id": "47ae3bfd",
   "metadata": {},
   "source": [
    "Then, using a random value $r'_3$, he can compute on his own $f_3(r'_3)$ and check that $q_3(r'_3)$ is indeed equal to $f_3(r'_3)$, thus $q_3 = f_3$."
   ]
  },
  {
   "cell_type": "code",
   "execution_count": 30,
   "id": "cceb9c68",
   "metadata": {},
   "outputs": [
    {
     "data": {
      "text/plain": [
       "49"
      ]
     },
     "execution_count": 30,
     "metadata": {},
     "output_type": "execute_result"
    }
   ],
   "source": [
    "r33 = k.random_element()\n",
    "r33"
   ]
  },
  {
   "cell_type": "markdown",
   "id": "6b908626",
   "metadata": {},
   "source": [
    "That is, that $f_3(r'_3) = \\widetilde{M_i}((r_1, r_2), (r'_1, r'_2, r'_3)) \\cdot \\widetilde{z}((r'_1, r'_2, r'_3))$, which the verifier can easily compute."
   ]
  },
  {
   "cell_type": "code",
   "execution_count": 31,
   "id": "d50cf0af",
   "metadata": {},
   "outputs": [
    {
     "data": {
      "text/plain": [
       "True"
      ]
     },
     "execution_count": 31,
     "metadata": {},
     "output_type": "execute_result"
    }
   ],
   "source": [
    "c1 = Mi_linear(M1)(x11=r1, x22= r2, y11=r11, y22=r22,y33=r33) * z_linear(z1)(y11=r11,y22=r22,y33=r33) + alpha * Mi_linear(M2)(x11=r1, x22= r2, y11=r11,y22=r22,y33=r33) * z_linear(z1)(y11=r11,y22=r22,y33=r33) + alpha^2 * Mi_linear(M3)(x11=r1, x22= r2, y11=r11,y22=r22,y33=r33) * z_linear(z1)(y11=r11,y22=r22,y33=r33)\n",
    "\n",
    "c1 == q3(y33=r33)"
   ]
  },
  {
   "cell_type": "markdown",
   "id": "a315293d",
   "metadata": {},
   "source": [
    "Thus, the verifier has checked that\n",
    "\n",
    "$\\begin{align}\n",
    "T_1 + \\alpha \\cdot T_2 + \\alpha^2 \\cdot T_3 =& \\sum_{y \\in \\{0, 1 \\}^3} \\widetilde{M_1}((r_1, r_2), y) \\cdot \\widetilde{z}(y) \\\\ \n",
    "+& \\alpha \\cdot \\sum_{y \\in \\{0, 1 \\}^3} \\widetilde{M_2}((r_1, r_2), y) \\cdot \\widetilde{z}(y) \\\\\n",
    "+& \\alpha^2 \\cdot \\sum_{y \\in \\{0, 1 \\}^3} \\widetilde{M_3}((r_1, r_2), y) \\cdot \\widetilde{z}(y)\n",
    "\\end{align}$\n",
    "\n",
    "so he can trust that all $T_1, T_2, T_3$ derive from $\\sum_{y \\in \\{0, 1 \\}^3} \\widetilde{M_i}((r_1, r_2), y) \\cdot \\widetilde{z}(y)$, and use them in the remaining step of the outer sum-check."
   ]
  },
  {
   "cell_type": "markdown",
   "id": "210b4052",
   "metadata": {},
   "source": [
    "### Final check\n",
    "\n",
    "We were left in the outer sum-check with the verifier wanting to compute\n",
    "\n",
    "$\\begin{align}\n",
    "s_2(r_2) = Q_2(r_2) = Q((r_1, r_2)) =& \\widetilde{eq}((\\beta_1, \\beta_2), (r_1, r_2)) \\cdot G((r_1, r_2)) \\\\\n",
    "=& \\widetilde{eq}((\\beta_1, \\beta_2), (r_1, r_2)) \\cdot ((\\sum_{y \\in \\{0, 1 \\}^3} \\widetilde{M_1}((r_1, r_2), y) \\cdot \\widetilde{z}(y) \\cdot \\sum_{y \\in \\{0, 1 \\}^{3}} \\widetilde{M_1}((r_1, r_2), y) \\cdot \\widetilde{z}(y)) \\\\  - & \\sum_{y \\in \\{0, 1 \\}^{3}} \\widetilde{M_3}((r_1, r_2), y) \\cdot \\widetilde{z}(y))\n",
    "\\end{align}$\n",
    "\n",
    "However, he needed help from the prover to compute\n",
    "\n",
    "$T_i := \\sum_{y \\in \\{0, 1 \\}^3} \\widetilde{M_i}((r_1, r_2), y) \\cdot \\widetilde{z}(y)$\n",
    "\n",
    "After batching the inner sum-checks into a single grand inner sum-check, the verifier has now proof of $T_1, T_2$ and $T_3$, so can easily compute\n",
    "\n",
    "$\\begin{align}\n",
    "Q((r_1, r_2)) =& \\widetilde{eq}((\\beta_1, \\beta_2), (r_1, r_2)) \\cdot G((r_1, r_2)) \\\\\n",
    "=& \\widetilde{eq}((\\beta_1, \\beta_2), (r_1, r_2)) \\cdot ((\\sum_{y \\in \\{0, 1 \\}^3} \\widetilde{M_1}((r_1, r_2), y) \\cdot \\widetilde{z}(y) \\cdot \\sum_{y \\in \\{0, 1 \\}^{3}} \\widetilde{M_1}((r_1, r_2), y) \\cdot \\widetilde{z}(y)) - \\sum_{y \\in \\{0, 1 \\}^{3}} \\widetilde{M_3}((r_1, r_2), y) \\cdot \\widetilde{z}(y)) \\\\\n",
    "=& \\widetilde{eq}((\\beta_1, \\beta_2), (r_1, r_2)) \\cdot (T_1 \\cdot T_2 - T_3)\n",
    "\\end{align}$\n",
    "\n"
   ]
  },
  {
   "cell_type": "code",
   "execution_count": 32,
   "id": "74226d7e",
   "metadata": {},
   "outputs": [
    {
     "data": {
      "text/plain": [
       "True"
      ]
     },
     "execution_count": 32,
     "metadata": {},
     "output_type": "execute_result"
    }
   ],
   "source": [
    "Q(x11=r1, x22=r2) == (T1 * T2 - T3) * eqx(x11=r1, x22=r2, x1=beta1, x2=beta2)"
   ]
  },
  {
   "cell_type": "markdown",
   "id": "da54dfcb",
   "metadata": {},
   "source": [
    "Which proves the original claim that the CCS relation for the Fibonacci example $1 \\cdot (M_1 \\cdot z \\circ M_2 \\cdot z) + (-1) \\cdot (M_3 \\cdot z) = \\vec{0}$ holds."
   ]
  },
  {
   "cell_type": "markdown",
   "id": "b5dacfdf",
   "metadata": {},
   "source": [
    "That is,\n",
    "\n",
    "$\\begin{align}\n",
    "Q((r_1, r_2)) = \\widetilde{eq}((\\beta_1, \\beta_2), (r_1, r_2)) \\cdot (T_1 \\cdot T_2 - T_3) &\\overset{w.h.p}{\\Longrightarrow} \\sum_{x_1 \\in \\{0,1\\}}\\sum_{x_2 \\in \\{0,1\\}} Q(x_1, x_2) = 0 \\\\\n",
    "&\\Longrightarrow \\forall x_1, x_2 \\in \\{0,1\\}. G((x_1, x_2)) = 0 \\\\\n",
    "&\\Longrightarrow 1 \\cdot (M_1 \\cdot z \\circ M_2 \\cdot z) + (-1) \\cdot (M_3 \\cdot z) = \\vec{0}\n",
    "\\end{align}$"
   ]
  },
  {
   "cell_type": "markdown",
   "id": "d7204e51",
   "metadata": {},
   "source": [
    "### Conclusion\n",
    "\n",
    "We made it! To recap, we have shown in this article how:\n",
    "\n",
    "**1.** Any polynomial equation can be transformed into a (bunch of) sum-checks, by leveraging the properties of multilinear polynomials and the Schwartz-Zippel lemma.\n",
    "\n",
    "**2.** A CCS relation can be transformed into a sum of a multilinear polynomial over the boolean hypercube and proved using the sum-check protocol.\n",
    "\n",
    "During the outer sum-check\n",
    "$\\sum_{x_1 \\in \\{0,1\\}}\\sum_{x_2 \\in \\{0,1\\}} Q(x_1, x_2) = 0$ the verifier was eventually be confronted to compute $Q(r)$ for some $r \\in \\mathbb{F}^{2}$. \n",
    "    \n",
    "Since $Q(r) = G(r) \\cdot \\widetilde{eq}((\\beta_1, \\beta_2), r)$ the verifier had to compute $\\sum_{y\\in \\{0,1\\}^{3}} \\widetilde{M}_j(r,y) \\cdot \\widetilde{z}(y)$ for $j \\in \\{1,2,3\\}$. Thus he asked for help to the prover, and engaged in a batched inner sum-check."
   ]
  },
  {
   "cell_type": "markdown",
   "id": "f489c363",
   "metadata": {},
   "source": [
    "**The main idea of HyperNova will be to fold or delay the computation of any inner sum-check**. This will be explored in the next article.\n",
    "\n",
    "Thanks for reading!"
   ]
  }
 ],
 "metadata": {
  "kernelspec": {
   "display_name": "SageMath 9.5",
   "language": "sage",
   "name": "sagemath-9.5"
  },
  "language_info": {
   "codemirror_mode": {
    "name": "ipython",
    "version": 3
   },
   "file_extension": ".py",
   "mimetype": "text/x-python",
   "name": "python",
   "nbconvert_exporter": "python",
   "pygments_lexer": "ipython3",
   "version": "3.9.9"
  }
 },
 "nbformat": 4,
 "nbformat_minor": 5
}
